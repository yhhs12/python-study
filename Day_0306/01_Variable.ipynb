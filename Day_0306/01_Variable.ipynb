{
 "cells": [
  {
   "cell_type": "markdown",
   "id": "8ea6a7d2",
   "metadata": {},
   "source": [
    "#변수와 데이터 입출력"
   ]
  },
  {
   "cell_type": "code",
   "execution_count": 13,
   "id": "d829ce1f",
   "metadata": {},
   "outputs": [
    {
     "name": "stdout",
     "output_type": "stream",
     "text": [
      "10/20/24\n",
      "1 2 3 4\n",
      "1 2 3 4\n"
     ]
    }
   ],
   "source": [
    "a = 10\n",
    "b= 20;\n",
    "print(a,b,24, sep='/',end = \"\\n\")\n",
    "print(1, 2, 3, 4)\n",
    "print(1, 2, 3, 4)\n"
   ]
  },
  {
   "cell_type": "code",
   "execution_count": 14,
   "id": "97e7b876",
   "metadata": {},
   "outputs": [
    {
     "name": "stdout",
     "output_type": "stream",
     "text": [
      "몇살이니?29\n",
      "29\n"
     ]
    }
   ],
   "source": [
    "age = input('몇살이니?')\n",
    "print(age)"
   ]
  },
  {
   "cell_type": "code",
   "execution_count": 17,
   "id": "c0e4a781",
   "metadata": {},
   "outputs": [
    {
     "name": "stdout",
     "output_type": "stream",
     "text": [
      "10 3.14 서울시 강남구 역삼동 광주광역시 광산구 제주시\n"
     ]
    }
   ],
   "source": [
    "x = 10;\n",
    "y = 3.14;\n",
    "addr1 = '서울시 강남구 역삼동'\n",
    "addr2 = '광주광역시 광산구'\n",
    "addr3 = '''제주시'''\n",
    "print(x,y,addr1,addr2,addr3)"
   ]
  },
  {
   "cell_type": "code",
   "execution_count": 23,
   "id": "aca93837",
   "metadata": {},
   "outputs": [
    {
     "name": "stdout",
     "output_type": "stream",
     "text": [
      "<class 'int'>\n",
      "<class 'float'>\n",
      "<class 'str'>\n",
      "<class 'str'>\n",
      "<class 'str'>\n"
     ]
    }
   ],
   "source": [
    "print(type(x))\n",
    "print(type(y))\n",
    "print(type(addr1))\n",
    "print(type(addr2))\n",
    "print(type(addr3))"
   ]
  },
  {
   "cell_type": "code",
   "execution_count": 24,
   "id": "5b38b9bf",
   "metadata": {},
   "outputs": [
    {
     "name": "stdout",
     "output_type": "stream",
     "text": [
      "Kim's Bakery\n"
     ]
    }
   ],
   "source": [
    "#Kim's Bakery\n",
    "name = \"Kim's Bakery\"\n",
    "print(name)"
   ]
  },
  {
   "cell_type": "code",
   "execution_count": null,
   "id": "aeeebcee",
   "metadata": {},
   "outputs": [],
   "source": [
    "temp = '''\n",
    "동해물과\n",
    "백두산이\n",
    "마르고 닳도록\n",
    "하느님이 보우하사 우리나라 만세\n",
    "'''\n",
    "print(temp)"
   ]
  },
  {
   "cell_type": "code",
   "execution_count": null,
   "id": "f7d9bea3",
   "metadata": {},
   "outputs": [],
   "source": [
    "#[문제] 몇년생이세요?\n",
    "#int(문자열)\n",
    "birthyear = input('몇년생이세요') #키보드로부터 입력받은 모든 데이터는 문자열이다!\n",
    "birthyear = int(birthyear)\n",
    "year = 2023\n",
    "print('당신의 나이는 : ',  (year-birthyear) , '입니다.') "
   ]
  },
  {
   "cell_type": "markdown",
   "id": "d0f3802f",
   "metadata": {},
   "source": [
    "2.리터럴과 연산자"
   ]
  },
  {
   "cell_type": "code",
   "execution_count": null,
   "id": "9e314b8d",
   "metadata": {},
   "outputs": [],
   "source": [
    "x = 0b11\n",
    "print(x)\n",
    "y = 0o10\n",
    "print(y)\n",
    "z = 0xf\n",
    "print(z)"
   ]
  },
  {
   "cell_type": "code",
   "execution_count": 1,
   "id": "dd8a2f85",
   "metadata": {},
   "outputs": [
    {
     "name": "stdout",
     "output_type": "stream",
     "text": [
      "(4+6j)\n"
     ]
    }
   ],
   "source": [
    "a = 1 + 2j\n",
    "b = 3 + 4j\n",
    "print(a+b)"
   ]
  },
  {
   "cell_type": "code",
   "execution_count": 2,
   "id": "df08a191",
   "metadata": {},
   "outputs": [
    {
     "name": "stdout",
     "output_type": "stream",
     "text": [
      "koreajapan2002\n"
     ]
    }
   ],
   "source": [
    "s = \"korea\" \"japan\" \"2002\"\n",
    "print(s)"
   ]
  },
  {
   "cell_type": "code",
   "execution_count": 3,
   "id": "f9fbe97b",
   "metadata": {},
   "outputs": [
    {
     "name": "stdout",
     "output_type": "stream",
     "text": [
      "221977800\n"
     ]
    }
   ],
   "source": [
    "totalsec = 3333*222*\\\n",
    "            60*5\n",
    "print(totalsec)"
   ]
  },
  {
   "cell_type": "code",
   "execution_count": 16,
   "id": "73e6e6fc",
   "metadata": {},
   "outputs": [
    {
     "name": "stdout",
     "output_type": "stream",
     "text": [
      "66\n",
      "b\n"
     ]
    }
   ],
   "source": [
    "x = 'B'\n",
    "print(ord(x)) # 문자의 코드값\n",
    "print(chr(98))"
   ]
  },
  {
   "cell_type": "code",
   "execution_count": 4,
   "id": "7aeed5ee",
   "metadata": {},
   "outputs": [
    {
     "name": "stdout",
     "output_type": "stream",
     "text": [
      "소문자를 입력하세요a\n",
      "결과 :  A\n"
     ]
    }
   ],
   "source": [
    "#[문제] 소문자(알파벳)을 입력받아 대문자로 반환하는 코드를 작성하시오\n",
    "data = input('소문자를 입력하세요')\n",
    "result = chr(ord(data) - 32)\n",
    "print('결과 : ',result)"
   ]
  },
  {
   "cell_type": "code",
   "execution_count": null,
   "id": "ff04d717",
   "metadata": {},
   "outputs": [],
   "source": []
  },
  {
   "cell_type": "code",
   "execution_count": 4,
   "id": "09efc407",
   "metadata": {},
   "outputs": [
    {
     "name": "stdout",
     "output_type": "stream",
     "text": [
      "틀려\n"
     ]
    }
   ],
   "source": [
    "if \"ㅇㄹㅇㄹ\" == True :\n",
    "    print(\"맞아\")\n",
    "else :\n",
    "    print(\"틀려\")"
   ]
  },
  {
   "cell_type": "code",
   "execution_count": null,
   "id": "6c1718aa",
   "metadata": {},
   "outputs": [],
   "source": []
  }
 ],
 "metadata": {
  "kernelspec": {
   "display_name": "Python 3 (ipykernel)",
   "language": "python",
   "name": "python3"
  },
  "language_info": {
   "codemirror_mode": {
    "name": "ipython",
    "version": 3
   },
   "file_extension": ".py",
   "mimetype": "text/x-python",
   "name": "python",
   "nbconvert_exporter": "python",
   "pygments_lexer": "ipython3",
   "version": "3.9.13"
  }
 },
 "nbformat": 4,
 "nbformat_minor": 5
}

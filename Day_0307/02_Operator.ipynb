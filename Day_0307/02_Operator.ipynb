{
 "cells": [
  {
   "cell_type": "code",
   "execution_count": null,
   "id": "c8ccdede",
   "metadata": {},
   "outputs": [],
   "source": [
    "#자료형\n",
    "\n",
    "-정수형(Integer)\n",
    "    -2진수(Binary) : 0b1011\n",
    "    -8진수(Octal Decimal) : 0o, 0O561\n",
    "    -10진수(Decimal)  : 34\n",
    "    -16진수(Hexa Decimal) : 0x, 0X56B\n",
    "\n",
    "-실수형(Float)\n",
    "    -0.45, 1.56e10\n",
    "-복소수(실수부+허수부j)\n",
    "-boolean <연산 가능>\n",
    "    -참(True) 이냐 거짓(False) ==> 0(거짓) , 1(참)"
   ]
  },
  {
   "cell_type": "code",
   "execution_count": null,
   "id": "e6d31aad",
   "metadata": {},
   "outputs": [],
   "source": [
    "\"1\" == True"
   ]
  },
  {
   "cell_type": "code",
   "execution_count": null,
   "id": "e0b0e3c8",
   "metadata": {},
   "outputs": [],
   "source": [
    "#연산자(Operator)\n",
    "-피연산자의 개수에 따라\n",
    "    -단항연산자(Unary) : 피연산자 1개\n",
    "    -이항연산자(Bianary) : 피연산자 2개\n",
    "        \n",
    "-피연산자의 종류에 따라\n",
    "        - + : 피연산자가 숫자면 더하기, 문자열이면 결합\n",
    "        - * : 피연산자가 숫자면 곱하기, 문자열이면 반복\n",
    "            \n",
    "-피연산자의 결과에 따라\n",
    "        -연산의 결과가 숫자인 경우 : \n",
    "        -연산의 결과가 boolean타입인 경우 : "
   ]
  },
  {
   "cell_type": "code",
   "execution_count": null,
   "id": "9e2e920d",
   "metadata": {},
   "outputs": [],
   "source": [
    "#결과가 숫자가 나온다( = 산술연산자 ) \n",
    "#더하기(+), 빼기(-), 곱하기(*), 나누기(/ : 실수), 나누기(//  : 정수 - 몫)\n",
    "#나머지(%), 거듭제곱(**)\n",
    "x = 10\n",
    "y = 22\n",
    "z = x + y\n",
    "print(z)\n",
    "\n",
    "a=\"서울시\"\n",
    "b = \"강남구\"\n",
    "c = a + \" \" +  b\n",
    "print(c)\n",
    "\n",
    "print(\"곱하기 : \" , x * y)\n",
    "print(\"반복 : \", (a + \" \") * 5)\n",
    "print(\"나누기1 :\", 7/2, 13/3)\n",
    "#print(\"나누기2 :\", 2/0) (오류)\n",
    "#print(\"나누기2 :\", 2/0.0) (오류) #js에서의 결과는??? infinity  왜?? infinity가 나올까\n",
    "\n",
    "print(\"몫1 : \", 7//2, 7/2)\n",
    "print(\"몫2 : \", 7//2.5, 7/2)\n",
    "\n",
    "print(\"나머지1 : \", 7%2)\n",
    "print(\"나머지2 : \", 25.5%7)\n",
    "\n",
    "print(\"거듭제곱 : \", 2**5)"
   ]
  },
  {
   "cell_type": "code",
   "execution_count": null,
   "id": "fc51f735",
   "metadata": {},
   "outputs": [],
   "source": [
    "#관계연산자, 비교연산자 : True or False \n",
    "#관계연산자 : and(모두 True), or(하나라도 True), not\n",
    "#not : 초과 < - > 이하 , 미만 < - > 이상  ==  < - > !==\n",
    "#비교연산자 : > (초과) , < (미만), >= (이상), <= (이하), == (동등), != (같지않다)\n",
    "a = 10\n",
    "b = '10'\n",
    "c = 10\n",
    "print(a == c)\n",
    "print(a > c)\n",
    "\n",
    "#조건 : 키가 150 이상이거나(or) 나이가 10살 이상인 경우만 가능\n",
    "#height >= 150 or age >= 10\n",
    "#height = 177.7\n",
    "#age = 14\n",
    "\n",
    "\n",
    "\n"
   ]
  },
  {
   "cell_type": "code",
   "execution_count": null,
   "id": "8358429d",
   "metadata": {},
   "outputs": [],
   "source": [
    "#버전 1\n",
    "if 조건식 : \n",
    "    #실행문\n",
    "\n",
    "#버전 2\n",
    "if 조건식 :\n",
    "    #실행문1\n",
    "else : \n",
    "    #실행문2\n",
    "    \n",
    "#버전 3\n",
    "if 조건식1:\n",
    "    #실행문1\n",
    "elif 조건식2:\n",
    "    #실행문2\n",
    "elif 조건식3:\n",
    "    #실행문3\n",
    "else :"
   ]
  },
  {
   "cell_type": "code",
   "execution_count": null,
   "id": "2184ce2b",
   "metadata": {},
   "outputs": [],
   "source": [
    "#문제) 키보드로부터 나이를 입력, 19세 이상이면 성인, 아니면 미성년자\n",
    "age = int(input(\"몇살이세요?\"))\n",
    "if(age >= 19):\n",
    "    printt(\"성인이네요\")\n",
    "else : \n",
    "    print(\"미성년자이네요\")"
   ]
  },
  {
   "cell_type": "code",
   "execution_count": null,
   "id": "67d8b3f9",
   "metadata": {},
   "outputs": [],
   "source": [
    "#문제)특정 숫자가 10~20사이인지 확인하는 코드\n",
    "\n",
    "a = int(input(\"숫자를 입력하세요\"))\n",
    "if not (a>=10 or a<=20):\n",
    "    print(\"10~20사이의 수\")\n",
    "else :\n",
    "    print(\"10~20이외의 수\")\n"
   ]
  },
  {
   "cell_type": "code",
   "execution_count": null,
   "id": "9c8ddd67",
   "metadata": {},
   "outputs": [],
   "source": [
    "#비트(bit) 관련 연산자  (비트 - > 단위) 메모리가 풀려있는 상태로 연산하는 것\n",
    "# | & ^(XOR) ~ >> <<\n",
    "# 1비트 => 2가지 (0,1)\n",
    "# 2비트 => 4가지 \n",
    "# 8비트 = 1바이트(byte)\n",
    "\n",
    "#10 ==> 1010   0000 0000 0000 0000 0000 0000 0000 1010\n",
    "#11 ==> 1011   0000 0000 0000 0000 0000 0000 0000 1011\n",
    "      \n",
    "a = 10\n",
    "b = 11\n",
    "c = -1 # 1111 1111 1111 1111 1111 1111 1111 1111\n",
    "print(a & b) \n",
    "print(a | b)\n",
    "print(a ^ b)\n",
    "print(~a) #음수로 바뀜 (1의 보수, 2의 보수:음수를 표현하는 방식)\n",
    "print(a >> 1) #1010 => 0101\n",
    "print(a >> 4)\n",
    "print(c << 1)\n",
    "print(c << 2)"
   ]
  },
  {
   "cell_type": "code",
   "execution_count": null,
   "id": "f8f71f40",
   "metadata": {},
   "outputs": [],
   "source": [
    "#대입 연산자\n",
    "#LV(변수) = RV(값, 수식, 변수)\n",
    "A, B  = 10 , 20\n",
    "print(A)\n",
    "print(B)\n",
    "\n",
    "A, B  =  B, A\n",
    "print(A)\n",
    "print(B)\n",
    "\n"
   ]
  },
  {
   "cell_type": "code",
   "execution_count": null,
   "id": "72542bf0",
   "metadata": {},
   "outputs": [],
   "source": [
    "#복합대입연산자\n",
    "A = 1\n",
    "A = A + 1\n",
    "A += 1\n",
    "print(A)\n",
    "\n",
    "#증감연산자( ++, -- )\n",
    "A = 2\n",
    "print(++A)\n",
    "print(--A)"
   ]
  },
  {
   "cell_type": "code",
   "execution_count": null,
   "id": "3952bb0b",
   "metadata": {},
   "outputs": [],
   "source": [
    "#문제) 제품 구매 (250만원) / 12개월    한달에 얼마씩?\n",
    "P = 250/12\n",
    "print(P)"
   ]
  },
  {
   "cell_type": "code",
   "execution_count": null,
   "id": "852bdbae",
   "metadata": {},
   "outputs": [],
   "source": [
    "bool([])\n",
    "bool(\"Korea\")\n",
    "bool(0)\n",
    "bool(42.195)"
   ]
  },
  {
   "cell_type": "code",
   "execution_count": null,
   "id": "1ee65203",
   "metadata": {},
   "outputs": [],
   "source": [
    "#[문제] 어느 놀이동산에서 성인기준으로 13,000원이다. 나이를 입력받고 7살 미만이면 5%할인, 65세 이상 5%할인한다.\n",
    "age = input(\"몇살이신가요?\")\n",
    "if(int(age) < 7 or int(age) >= 65 ):\n",
    "    print(round(13000*0.95)\n",
    "else: print(13000)\n",
    "    "
   ]
  },
  {
   "cell_type": "code",
   "execution_count": null,
   "id": "a1032845",
   "metadata": {},
   "outputs": [],
   "source": [
    "#[문제] 어느 놀이동산에서 성인기준으로 13,000원이다. 나이를 입력받고 7살 미만이면 5%할인, 65세 이상 5%할인한다.\n",
    "#     일행의 수 입력받는다. 할인을 받을 수 있는 나이의 인원수를 입력받는다.\n",
    "Count = int(input(\"몇명인가요?\"))\n",
    "child = int(input(\"어린이 몇명인가요?\"))\n",
    "old = int(input(\"노인 몇명인가요?\")) \n",
    "Price = round(child*13000*0.95 + old*13000*0.95 + 13000*(Count-old-child))\n",
    "\n",
    "print('총', Price, '원 입니다')\n"
   ]
  },
  {
   "cell_type": "code",
   "execution_count": null,
   "id": "b75d036a",
   "metadata": {},
   "outputs": [],
   "source": [
    "#[문제] 키(cm), 몸무게(kg) 입니다. bmi를 구하시오\n",
    "#bmi : 신체질량지수  =  몸무게 / 키의 제곱\n",
    "height = float(input(\"당신의 키는 몇 cm 입니까?\"))\n",
    "weight = float(input(\"당신의 몸무게는 몇 kg 입니까?\"))\n",
    "bmi = weight / ((height*0.01)**2)\n",
    "print(bmi)\n",
    "if(bmi < 19):\n",
    "    result = \"저체중\"\n",
    "elif(bmi < 23):\n",
    "    result = \"정상\"\n",
    "elif(bmi < 25):\n",
    "    result = \"과체중\"\n",
    "elif(bmi < 30):\n",
    "    result = \"경도비만\"\n",
    "elif(bmi < 35):\n",
    "    result = \"중도비만\"\n",
    "elif(bmi >= 35):\n",
    "    result = \"고도비만\"\n",
    "print(\"키 : \", height, \"cm, 몸무게 : \", weight, \"kg, BMI : \",bmi, \", 결과는 :\", result, \"입니다\")"
   ]
  },
  {
   "cell_type": "markdown",
   "id": "69d63e2b",
   "metadata": {},
   "source": [
    "#반복문\n",
    "-while\n",
    "\n",
    " 'while 조건식: \n",
    "         실행문\n",
    "     \n",
    "-for"
   ]
  },
  {
   "cell_type": "code",
   "execution_count": null,
   "id": "6b9b4d2e",
   "metadata": {},
   "outputs": [],
   "source": [
    "#삼항 연산자 (Tenary Operataor)\n",
    "#if (조건식) :\n",
    "#    참명령문\n",
    "#else :\n",
    "#    거짓명령문\n",
    "    \n",
    "#       ||\n",
    "#변수 = 참표현식 if (조건식) else 거짓표현식\n",
    "a = 10\n",
    "b = \"크다\" if a>=10 else \"작다\"\n",
    "print(a,b)"
   ]
  },
  {
   "cell_type": "code",
   "execution_count": null,
   "id": "56d1bc9d",
   "metadata": {},
   "outputs": [],
   "source": [
    "#[문제]정수를 입력받는다. 홀수인지 짝수인지 출력하시오\n",
    "i = int(input(\"숫자를 입력하세요\"))\n",
    "result = \"짝수\" if i%2==0 else \"홀수\" \n",
    "print(result)"
   ]
  }
 ],
 "metadata": {
  "kernelspec": {
   "display_name": "Python 3 (ipykernel)",
   "language": "python",
   "name": "python3"
  },
  "language_info": {
   "codemirror_mode": {
    "name": "ipython",
    "version": 3
   },
   "file_extension": ".py",
   "mimetype": "text/x-python",
   "name": "python",
   "nbconvert_exporter": "python",
   "pygments_lexer": "ipython3",
   "version": "3.9.13"
  }
 },
 "nbformat": 4,
 "nbformat_minor": 5
}

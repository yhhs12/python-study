{
 "cells": [
  {
   "cell_type": "markdown",
   "id": "7635296d",
   "metadata": {},
   "source": [
    "#Tuple\n",
    "-()로 생성\n",
    "-불변의 자료(immotable)"
   ]
  },
  {
   "cell_type": "code",
   "execution_count": 1,
   "id": "f2ccd564",
   "metadata": {},
   "outputs": [
    {
     "name": "stdout",
     "output_type": "stream",
     "text": [
      "<class 'tuple'>\n"
     ]
    }
   ],
   "source": [
    "a = (1,2,3)\n",
    "print(type(a))"
   ]
  },
  {
   "cell_type": "code",
   "execution_count": 3,
   "id": "bccb49a5",
   "metadata": {},
   "outputs": [
    {
     "name": "stdout",
     "output_type": "stream",
     "text": [
      "(10, 20, 30)\n"
     ]
    }
   ],
   "source": [
    "b=10, 20, 30\n",
    "print(b)"
   ]
  },
  {
   "cell_type": "code",
   "execution_count": 5,
   "id": "ffdd8dba",
   "metadata": {},
   "outputs": [
    {
     "name": "stdout",
     "output_type": "stream",
     "text": [
      "이순신\n",
      "강감찬\n",
      "김유신\n"
     ]
    }
   ],
   "source": [
    "tu = \"이순신\", \"강감찬\", \"김유신\"\n",
    "lee,kang, kim = tu\n",
    "print(lee)\n",
    "print(kang)\n",
    "print(kim)\n"
   ]
  },
  {
   "cell_type": "code",
   "execution_count": 2,
   "id": "d0a86ec9",
   "metadata": {},
   "outputs": [
    {
     "name": "stdout",
     "output_type": "stream",
     "text": [
      "{(1, 2): '수치데이터', True: '참', 0: '숫자0'}\n",
      "<class 'dict'>\n",
      "수치데이터\n",
      "참\n",
      "숫자0\n"
     ]
    }
   ],
   "source": [
    "mykey = 1, 2\n",
    "mydic = {mykey: \"수치데이터\", True: \"참\", 0 : \"숫자0\"}\n",
    "print(mydic)\n",
    "print(type(mydic))\n",
    "\n",
    "print(mydic[(1,2)])\n",
    "print(mydic[(True)])\n",
    "print(mydic[(0)])"
   ]
  },
  {
   "cell_type": "code",
   "execution_count": 8,
   "id": "8da58cd1",
   "metadata": {},
   "outputs": [
    {
     "name": "stdout",
     "output_type": "stream",
     "text": [
      "time.struct_time(tm_year=2023, tm_mon=3, tm_mday=14, tm_hour=8, tm_min=22, tm_sec=9, tm_wday=1, tm_yday=73, tm_isdst=0)\n",
      "(8, 22)\n",
      "time.struct_time(tm_year=2023, tm_mon=3, tm_mday=14, tm_hour=8, tm_min=22, tm_sec=9, tm_wday=1, tm_yday=73, tm_isdst=0)\n",
      "8월, 22일, 요일\n"
     ]
    }
   ],
   "source": [
    "import time\n",
    "\n",
    "#함수의 정의\n",
    "def gettime():   #def으로 함수 정의\n",
    "    now = time.localtime()\n",
    "    print(now)\n",
    "    return now.tm_hour, now.tm_min  #리턴값 2개 변환\n",
    "\n",
    "#함수의 호출\n",
    "result = gettime()  #gettime으로 호출\n",
    "print(result)\n",
    "# 월 일 요일 출력\n",
    "day = gettime()\n",
    "today_wday = result[1]\n",
    "\n",
    "\n",
    "\n",
    "if today_wday == 0 :\n",
    "    yoil = \"월\"\n",
    "elif today_wday == 1 :\n",
    "    yoil = \"화\"\n",
    "elif today_wday == 2 :\n",
    "    yoil = \"수\"\n",
    "elif today_wday == 3 :\n",
    "    yoil = \"목\"\n",
    "elif today_wday == 4 :\n",
    "    yoil = \"금\"\n",
    "elif today_wday == 5 :\n",
    "    yoil = \"토\"\n",
    "elif today_wday == 6 :\n",
    "    yoil = \"일\"\n",
    "    \n",
    "print(str(day[0]) + \"월, \" + str(day[1]) + \"일, \"+ \"요일\")\n"
   ]
  },
  {
   "cell_type": "code",
   "execution_count": 25,
   "id": "42f74dba",
   "metadata": {},
   "outputs": [
    {
     "name": "stdout",
     "output_type": "stream",
     "text": [
      "{'아아', '아카마', '아바라'}\n",
      "{'apple', 'pear', 'pineapple', 'orange'}\n",
      "<class 'set'>\n",
      "{'아아', '아이스티', '아카마', '아바라'}\n"
     ]
    }
   ],
   "source": [
    "coffee = set(['아아','아바라','아카마'])\n",
    "print(coffee)\n",
    "\n",
    "fruit = {'apple', 'pear', 'orange', 'pineapple'}\n",
    "print(fruit)\n",
    "print(type(fruit))\n",
    "\n",
    "coffee.add('아이스티')\n",
    "print(coffee)"
   ]
  },
  {
   "cell_type": "markdown",
   "id": "62e0c8bb",
   "metadata": {},
   "source": [
    "#컬렉션 관리 함수\n",
    "- zip()\n",
    "-enumerate() : 컬렉션의 데이터를 순회하면서 번호도 추출"
   ]
  },
  {
   "cell_type": "code",
   "execution_count": 32,
   "id": "ac5527e5",
   "metadata": {},
   "outputs": [
    {
     "name": "stdout",
     "output_type": "stream",
     "text": [
      "1 요소:  월\n",
      "2 요소:  화\n",
      "3 요소:  수\n",
      "4 요소:  목\n",
      "5 요소:  금\n"
     ]
    }
   ],
   "source": [
    "days = ['월', '화', '수', '목','금']\n",
    "list(enumerate(days,1))  #내장함수\n",
    "\n",
    "for index, item in enumerate(days,1) :\n",
    "    print(index,'요소: ',item)"
   ]
  },
  {
   "cell_type": "code",
   "execution_count": 58,
   "id": "9e8bcbb3",
   "metadata": {},
   "outputs": [
    {
     "data": {
      "text/plain": [
       "[('월', '순대'), ('화', '떡볶이'), ('수', '라면'), ('목', '파스타')]"
      ]
     },
     "execution_count": 58,
     "metadata": {},
     "output_type": "execute_result"
    }
   ],
   "source": [
    "days = ['월', '화', '수', '목','금','토','일']\n",
    "foods = ['순대', '떡볶이', '라면', '파스타']\n",
    "\n",
    "list(zip(days, foods))\n",
    "\n",
    "for yoil, lunch in zip(days, foods) :\n",
    "    print(yoil, \"요일에는\", lunch, sep='')"
   ]
  },
  {
   "cell_type": "code",
   "execution_count": 53,
   "id": "90f20ab6",
   "metadata": {},
   "outputs": [
    {
     "name": "stdout",
     "output_type": "stream",
     "text": [
      "<zip object at 0x00000190EAADF200>\n",
      "라면\n"
     ]
    }
   ],
   "source": [
    "days = ['월', '화', '수', '목','금','토','일']\n",
    "foods = ['순대', '떡볶이', '라면', '파스타']\n",
    "\n",
    "zip(days, foods)\n",
    "\n",
    "menu = dict(zip(days, foods))\n",
    "print(menu['수'])"
   ]
  },
  {
   "cell_type": "code",
   "execution_count": null,
   "id": "e4316383",
   "metadata": {},
   "outputs": [],
   "source": [
    "x = [[1,2,3],[4,5,6]]\n",
    "print(x[0])\n",
    "print(x[1][1]) #파이썬에서는 대괄호 2개를 사용!\n",
    "print(len(x))\n",
    "print(len(x[0]))\n",
    "\n",
    "y = [1,2,3.5,'문자열']\n",
    "print(y)"
   ]
  },
  {
   "cell_type": "code",
   "execution_count": 7,
   "id": "903577ca",
   "metadata": {},
   "outputs": [
    {
     "name": "stdout",
     "output_type": "stream",
     "text": [
      "[[21, 32, 43], [54, 65, 76]]\n"
     ]
    }
   ],
   "source": [
    "#[연습] v1\n",
    "x = [[1,2,3],[4,5,6]]\n",
    "y = [[11,12,13],[14,15,16]]\n",
    "\n",
    "#컬렉션 관리함수를 이용\n",
    "z=[]\n",
    "\n",
    "for i in range(len(x)):\n",
    "    row = []\n",
    "    for j in range(len(x[i])):\n",
    "        row.append(x[i][j] * 10 + y[i][j])\n",
    "    z.append(row)\n",
    "\n",
    "print(z)\n",
    "#z = [[21,32,43],[24,35,46]] #x와y를 이용하여 z 데이터를 생성하라"
   ]
  },
  {
   "cell_type": "code",
   "execution_count": 67,
   "id": "eb233fc9",
   "metadata": {},
   "outputs": [
    {
     "name": "stdout",
     "output_type": "stream",
     "text": [
      "[1, 2, 3] [11, 12, 13]\n",
      "[4, 5, 6] [14, 15, 16]\n",
      "[[21, 32, 43], [54, 65, 76]]\n"
     ]
    }
   ],
   "source": [
    "#[연습] v2\n",
    "x = [[1,2,3],[4,5,6]]\n",
    "y = [[11,12,13],[14,15,16]]\n",
    "\n",
    "#컬렉션 관리함수를 이용\n",
    "z=[]\n",
    "\n",
    "for a,b in zip(x,y):\n",
    "    print(a,b)\n",
    "    temp = []\n",
    "    for c, d in zip(a,b):\n",
    "        temp.append(c*10 + d)\n",
    "    z.append(temp)\n",
    "\n",
    "print(z)\n",
    "#z = [[21,32,43],[24,35,46]] #x와y를 이용하여 z 데이터를 생성하라"
   ]
  },
  {
   "cell_type": "code",
   "execution_count": 73,
   "id": "ae6338ff",
   "metadata": {},
   "outputs": [
    {
     "name": "stdout",
     "output_type": "stream",
     "text": [
      "[[21, 32, 43], [54, 65, 76]]\n"
     ]
    }
   ],
   "source": [
    "#[연습] v3\n",
    "x = [[1,2,3],[4,5,6]]\n",
    "y = [[11,12,13],[14,15,16]]\n",
    "\n",
    "\n",
    "#컬렉션 관리함수를 이용\n",
    "\n",
    "temp = [[c*10 + d for c, d in zip(a,b)] for a,b in zip(x,y)]\n",
    "print(temp)\n",
    "    \n",
    "    \n",
    "#print(z)"
   ]
  },
  {
   "cell_type": "code",
   "execution_count": 74,
   "id": "97edd10e",
   "metadata": {},
   "outputs": [
    {
     "name": "stdout",
     "output_type": "stream",
     "text": [
      "[10, 22, 36]\n"
     ]
    }
   ],
   "source": [
    "k = [1,2,3]\n",
    "l = [10,11,12]\n",
    "#결과물 : z = [10,22,36]\n",
    "\n",
    "z = [a*b for a,b in zip (k,l)]\n",
    "print(z)"
   ]
  },
  {
   "cell_type": "code",
   "execution_count": 75,
   "id": "9dccac18",
   "metadata": {},
   "outputs": [
    {
     "name": "stdout",
     "output_type": "stream",
     "text": [
      "[33, 36, 39]\n"
     ]
    }
   ],
   "source": [
    "k = [1,2,3]\n",
    "l = [10,11,12]\n",
    "m = [22,23,24]\n",
    "\n",
    "z = [a+b+c for a,b,c in zip (k,l,m)]\n",
    "print(z)"
   ]
  },
  {
   "cell_type": "code",
   "execution_count": null,
   "id": "3ffbfa5c",
   "metadata": {},
   "outputs": [],
   "source": []
  },
  {
   "cell_type": "code",
   "execution_count": null,
   "id": "f7e9863d",
   "metadata": {},
   "outputs": [],
   "source": []
  },
  {
   "cell_type": "code",
   "execution_count": null,
   "id": "70d48ee1",
   "metadata": {},
   "outputs": [],
   "source": []
  },
  {
   "cell_type": "code",
   "execution_count": null,
   "id": "25533013",
   "metadata": {},
   "outputs": [],
   "source": []
  }
 ],
 "metadata": {
  "kernelspec": {
   "display_name": "Python 3 (ipykernel)",
   "language": "python",
   "name": "python3"
  },
  "language_info": {
   "codemirror_mode": {
    "name": "ipython",
    "version": 3
   },
   "file_extension": ".py",
   "mimetype": "text/x-python",
   "name": "python",
   "nbconvert_exporter": "python",
   "pygments_lexer": "ipython3",
   "version": "3.9.13"
  }
 },
 "nbformat": 4,
 "nbformat_minor": 5
}

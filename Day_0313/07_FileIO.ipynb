{
 "cells": [
  {
   "cell_type": "code",
   "execution_count": null,
   "id": "5c4cbb32",
   "metadata": {},
   "outputs": [],
   "source": [
    "data = '''나리나리 개나리\n",
    "입에 따다 물고요\n",
    "'''\n",
    "\n",
    "f = open('song1.txt', 'wt', encoding='utf-8')\n",
    "f.write(data)\n",
    "f.close()\n",
    "print(\"저장 완료!\")"
   ]
  },
  {
   "cell_type": "code",
   "execution_count": null,
   "id": "ce31eaa8",
   "metadata": {},
   "outputs": [],
   "source": [
    "help(open)"
   ]
  },
  {
   "cell_type": "code",
   "execution_count": null,
   "id": "17f88564",
   "metadata": {},
   "outputs": [],
   "source": [
    "f = open('song1.txt', 'rt', encoding='utf-8')\n",
    "\n",
    "txt = f.read()\n",
    "print(txt)"
   ]
  },
  {
   "cell_type": "code",
   "execution_count": null,
   "id": "ceb05ead",
   "metadata": {},
   "outputs": [],
   "source": [
    "# read mode로 파일을 오픈할 때에는 반드시 해당 파일이 존재\n",
    "try:\n",
    "    f = open('song2.txt', 'rt', encoding='utf-8')\n",
    "    txt = f.read()\n",
    "    print(txt)\n",
    "except FileNotFoundError:\n",
    "    print(\"파일이 존재하지 않습니다.\")\n",
    "finally :    #오류가 발생을 하든, 하지않든 무조건 처리해야하는 문장\n",
    "    f.close()"
   ]
  },
  {
   "cell_type": "code",
   "execution_count": null,
   "id": "afa8ed7a",
   "metadata": {},
   "outputs": [],
   "source": [
    "#readLines()\n",
    "f = open('song1.txt', 'rt', encoding='UTF-8')\n",
    "txt = f.readlines()\n",
    "print(txt)"
   ]
  },
  {
   "cell_type": "code",
   "execution_count": null,
   "id": "c1aef053",
   "metadata": {},
   "outputs": [],
   "source": [
    "#readLines()\n",
    "f = open('song1.txt', 'rt', encoding='UTF-8')\n",
    "txt = f.readline() # 한줄만 읽음\n",
    "print(txt)"
   ]
  },
  {
   "cell_type": "code",
   "execution_count": 3,
   "id": "b26d500b",
   "metadata": {},
   "outputs": [
    {
     "name": "stdout",
     "output_type": "stream",
     "text": [
      "나리나리 개나리\n"
     ]
    }
   ],
   "source": [
    "#readLines()\n",
    "f = open('song1.txt', 'rt', encoding='UTF-8')\n",
    "\n",
    "for txt in f.readline():\n",
    "    print(txt, end='')\n",
    "f.close()"
   ]
  },
  {
   "cell_type": "code",
   "execution_count": 23,
   "id": "365822af",
   "metadata": {},
   "outputs": [
    {
     "name": "stdout",
     "output_type": "stream",
     "text": [
      "1 홍길동 95 85 75 255 85.0\n",
      "2 임꺽정 68 78 98 244 81.33\n",
      "3 손오공 77 88 99 264 88.0\n",
      "4 저팔계 66 77 88 231 77.0\n",
      "5 사오정 75 85 95 255 85.0\n"
     ]
    }
   ],
   "source": [
    "#[문제] score.txt를 읽어서 번호, 이름, 국어, 영어, 수학, 합계, 평균에 맞춰서 출력하시오\n",
    "f = open('score.txt', 'rt', encoding='UTF-8')\n",
    "\n",
    "lines = f.readlines()\n",
    "f.close()\n",
    "\n",
    "for line in lines[1:] :  #첫줄 제외하기(슬라이싱)\n",
    "    num, name, kor, eng, math = line.split()  #쪼개기\n",
    "    kor, eng, math = int(kor), int(eng), int(math)\n",
    "    total = kor + eng + math\n",
    "    avg = total / 3\n",
    "    print(num,name,kor,eng,math,total,round(avg,2))"
   ]
  },
  {
   "cell_type": "code",
   "execution_count": 7,
   "id": "d5d939ce",
   "metadata": {},
   "outputs": [
    {
     "name": "stdout",
     "output_type": "stream",
     "text": [
      "1 홍길동  95  85  75  255  85.00\n",
      "2 임꺽정  68  78  98  244  81.33\n",
      "3 손오공  77  88  99  264  88.00\n",
      "4 저팔계  66  77  88  231  77.00\n",
      "5 사오정  75  85  95  255  85.00\n"
     ]
    }
   ],
   "source": [
    "#[문제] score.txt를 읽어서 번호, 이름, 국어, 영어, 수학, 합계, 평균에 맞춰서 출력하시오\n",
    "\n",
    "def process(score):   # score : list\n",
    "    num  = score[0]\n",
    "    name = score[1]\n",
    "   \n",
    "    s = [int(data) for data in score[2:]]\n",
    "    total = sum(s)\n",
    "    avg = total / len(s)\n",
    "    output = '%s %s %3d %3d %3d %4d  %.2f' % (num, name, s[0], s[1], s[2], total, avg)\n",
    "    print(output)\n",
    "    \n",
    "f = open('score.txt', 'rt', encoding='UTF-8')\n",
    "score = f.readlines()\n",
    "for item in score[1:] :   #첫줄 제외하기(슬라이싱)\n",
    "    process(item.split())\n",
    "f.close()\n",
    "\n",
    " \n",
    "    \n",
    "    "
   ]
  },
  {
   "cell_type": "code",
   "execution_count": 13,
   "id": "8b139de3",
   "metadata": {},
   "outputs": [
    {
     "name": "stdout",
     "output_type": "stream",
     "text": [
      "======[1반 ]======\n",
      "1 홍길동  95  85  75  255  85.00\n",
      "2 임꺽정  68  78  98  244  81.33\n",
      "3 손오공  77  88  99  264  88.00\n",
      "4 저팔계  66  77  88  231  77.00\n",
      "5 사오정  75  85  95  255  85.00\n",
      "======[2반 ]======\n",
      "1 김길동  95  85  75  255  85.00\n",
      "2 이꺽정  68  78  98  244  81.33\n",
      "3 한오공  77  88  99  264  88.00\n",
      "4 심팔계  66  77  88  231  77.00\n",
      "5 박오정  75  85  95  255  85.00\n",
      "======[3반 ]======\n",
      "1 한라산  95  85  75  255  85.00\n",
      "2 무등산  68  78  98  244  81.33\n",
      "3 지리산  77  88  99  264  88.00\n",
      "4 북한산  66  77  88  231  77.00\n",
      "5 뒷동네  75  85  95  255  85.00\n"
     ]
    }
   ],
   "source": [
    "#[문제]여러 반 학생들의 성적을 함께 처리하고자 한다면?\n",
    "import glob\n",
    "all_class = sorted(glob.glob('class*.txt'))   #데이터를 한꺼번에 읽기  #sorted - 정렬해주는 내장함수\n",
    "#와일드카드\n",
    "\n",
    "def process(score):   # score : list\n",
    "    num  = score[0]\n",
    "    name = score[1]\n",
    "   \n",
    "    s = [int(data) for data in score[2:]]\n",
    "    total = sum(s)\n",
    "    avg = total / len(s)\n",
    "    output = '%s %s %3d %3d %3d %4d  %.2f' % (num, name, s[0], s[1], s[2], total, avg)\n",
    "    print(output)\n",
    "    \n",
    "for i in all_class:\n",
    "    \n",
    "    f = open(i, 'rt', encoding='UTF-8')\n",
    "    score = f.readlines()\n",
    "    print(\"======[\"+i[6]+\"반 ]======\")\n",
    "    for item in score[1:] :   #첫줄 제외하기(슬라이싱)\n",
    "        process(item.split())\n",
    "    f.close()\n",
    "\n"
   ]
  },
  {
   "cell_type": "code",
   "execution_count": 17,
   "id": "3f0faecc",
   "metadata": {},
   "outputs": [
    {
     "name": "stdout",
     "output_type": "stream",
     "text": [
      "1 홍길동  95  85  75  255  85.00\n",
      "2 임꺽정  68  78  98  244  81.33\n",
      "3 손오공  77  88  99  264  88.00\n",
      "4 저팔계  66  77  88  231  77.00\n",
      "5 사오정  75  85  95  255  85.00\n",
      "Done~\n"
     ]
    }
   ],
   "source": [
    "#학생 수가 몇 명인지 모르는 상태로 큰 용량의 데이터를 처리해야 한다면\n",
    "#readlines()는 적합하지 않다 ==> readline()이용\n",
    "\n",
    "#[문제]여러 반 학생들의 성적을 함께 처리하고자 한다면?\n",
    "import glob\n",
    "all_class = sorted(glob.glob('class*.txt'))   #데이터를 한꺼번에 읽기  #sorted - 정렬해주는 내장함수\n",
    "#와일드카드\n",
    "\n",
    "def process(score):   # score : list\n",
    "    num  = score[0]\n",
    "    name = score[1]\n",
    "   \n",
    "    s = [int(data) for data in score[2:]]\n",
    "    total = sum(s)\n",
    "    avg = total / len(s)\n",
    "    output = '%s %s %3d %3d %3d %4d  %.2f' % (num, name, s[0], s[1], s[2], total, avg)\n",
    "    print(output)\n",
    "    \n",
    "f = open('score.txt', 'rt', encoding='UTF-8')\n",
    "score = f.readline() #첫 줄을 날리기 위한 코드\n",
    "\n",
    "while True:    \n",
    "    item = f.readline()  #readine - 줄단위 #readlines - 여러줄\n",
    "    #실제 학생의 성적을 읽기 위한 코드\n",
    "    if len(item) == 0 : break\n",
    "    process(item.split())\n",
    "\n",
    "# print(\"Done~\")    \n",
    "f.close()   #반드시 해야한다\n",
    "\n"
   ]
  },
  {
   "cell_type": "code",
   "execution_count": 23,
   "id": "7e5f5ff0",
   "metadata": {},
   "outputs": [
    {
     "name": "stdout",
     "output_type": "stream",
     "text": [
      "복사 완료!\n"
     ]
    }
   ],
   "source": [
    "#binary 파일의 처리(텍스트 파일x, 출력목적x)\n",
    "fi = open('./star.png', mode='rb')\n",
    "fo = open('./star_copyed.png', mode='wb')\n",
    "\n",
    "data = fi.read()\n",
    "fo.write(data)\n",
    "\n",
    "\n",
    "fo.close()\n",
    "fi.close()\n",
    "print('복사 완료!')"
   ]
  },
  {
   "cell_type": "code",
   "execution_count": 24,
   "id": "fb6c4721",
   "metadata": {},
   "outputs": [
    {
     "name": "stdout",
     "output_type": "stream",
     "text": [
      "1 홍길동  95  85  75  255  85.00\n",
      "2 임꺽정  68  78  98  244  81.33\n",
      "3 손오공  77  88  99  264  88.00\n",
      "4 저팔계  66  77  88  231  77.00\n",
      "5 사오정  75  85  95  255  85.00\n"
     ]
    }
   ],
   "source": [
    "#with 명령문을 이용하여 자동으로 close()기능\n",
    "\n",
    "def process(score):   # score : list\n",
    "    num  = score[0]\n",
    "    name = score[1]\n",
    "   \n",
    "    s = [int(data) for data in score[2:]]\n",
    "    total = sum(s)\n",
    "    avg = total / len(s)\n",
    "    output = '%s %s %3d %3d %3d %4d  %.2f' % (num, name, s[0], s[1], s[2], total, avg)\n",
    "    print(output)\n",
    "\n",
    "with open('score.txt', 'rt', encoding='UTF-8') as f:   ##권장 코드\n",
    "    score = f.readlines()\n",
    "    for item in score[1:] :   \n",
    "        process(item.split())\n",
    "   \n",
    "\n",
    " \n",
    "    \n",
    "    "
   ]
  },
  {
   "cell_type": "code",
   "execution_count": 35,
   "id": "20bd0284",
   "metadata": {},
   "outputs": [
    {
     "name": "stdout",
     "output_type": "stream",
     "text": [
      "1 .ipynb_checkpoints\n",
      "2 06_lambda.ipynb\n",
      "3 07_FileIO.ipynb\n",
      "4 class_1.txt\n",
      "5 class_2.txt\n",
      "6 class_3.txt\n",
      "7 score.txt\n",
      "8 song1.txt\n",
      "9 star.png\n",
      "10 star_copyed.png\n"
     ]
    }
   ],
   "source": [
    "# 'Test_Python\\Day_0313' #내부의 목록을 출력하시오\n",
    "import os\n",
    "\n",
    "files = sorted(os.listdir('./'))\n",
    "i = 1\n",
    "for file in files:\n",
    "    print(i, file)\n",
    "    i += 1\n"
   ]
  },
  {
   "cell_type": "code",
   "execution_count": null,
   "id": "8558ee52",
   "metadata": {},
   "outputs": [],
   "source": []
  },
  {
   "cell_type": "code",
   "execution_count": null,
   "id": "34c9668e",
   "metadata": {},
   "outputs": [],
   "source": []
  },
  {
   "cell_type": "code",
   "execution_count": null,
   "id": "28dc7e90",
   "metadata": {},
   "outputs": [],
   "source": []
  },
  {
   "cell_type": "code",
   "execution_count": null,
   "id": "6664d65d",
   "metadata": {},
   "outputs": [],
   "source": []
  },
  {
   "cell_type": "code",
   "execution_count": null,
   "id": "95b6c9fe",
   "metadata": {},
   "outputs": [],
   "source": []
  },
  {
   "cell_type": "code",
   "execution_count": null,
   "id": "ebfcb4d8",
   "metadata": {},
   "outputs": [],
   "source": []
  }
 ],
 "metadata": {
  "kernelspec": {
   "display_name": "Python 3 (ipykernel)",
   "language": "python",
   "name": "python3"
  },
  "language_info": {
   "codemirror_mode": {
    "name": "ipython",
    "version": 3
   },
   "file_extension": ".py",
   "mimetype": "text/x-python",
   "name": "python",
   "nbconvert_exporter": "python",
   "pygments_lexer": "ipython3",
   "version": "3.9.13"
  }
 },
 "nbformat": 4,
 "nbformat_minor": 5
}

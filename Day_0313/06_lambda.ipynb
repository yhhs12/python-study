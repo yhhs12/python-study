{
 "cells": [
  {
   "cell_type": "code",
   "execution_count": null,
   "id": "3636c311",
   "metadata": {},
   "outputs": [],
   "source": [
    "numerate(race)"
   ]
  },
  {
   "cell_type": "markdown",
   "id": "1e3580b4",
   "metadata": {},
   "source": [
    "#컬렉션 관리함수\n",
    "\n",
    "* enumerate() : 컬렉션의 index와 요소값을 반환해주는 내장함수\n",
    "* zip() : 여러 개의 컬렉션을 하나로 합쳐서 반환해주는 내장함수(list)<br>\n",
    "\n",
    "\n",
    "* any() : 전달인자로 받은 데이터 중 하나라도 True이면 True\n",
    "* all() : 전달인자로 받은 데이터 모두 True이면 True"
   ]
  },
  {
   "cell_type": "code",
   "execution_count": 3,
   "id": "6c35d9d4",
   "metadata": {},
   "outputs": [
    {
     "data": {
      "text/plain": [
       "[(0, 'k'), (1, 'o'), (2, 'r'), (3, 'e'), (4, 'a')]"
      ]
     },
     "execution_count": 3,
     "metadata": {},
     "output_type": "execute_result"
    }
   ],
   "source": [
    "test = ['a', 'b', 'c']\n",
    "enumerate(test)\n",
    "list(enumerate(test))  #list() : 리스트 형태로 변환\n",
    "\n",
    "list(enumerate('korea'))"
   ]
  },
  {
   "cell_type": "code",
   "execution_count": 4,
   "id": "88ba736a",
   "metadata": {},
   "outputs": [
    {
     "data": {
      "text/plain": [
       "[(0, 'addr'), (1, 'age'), (2, 'name')]"
      ]
     },
     "execution_count": 4,
     "metadata": {},
     "output_type": "execute_result"
    }
   ],
   "source": [
    "test = {'addr':'서울', 'age':23, 'name':'hong'}\n",
    "list(enumerate(test))  #키의 대한 목록을 반환\n"
   ]
  },
  {
   "cell_type": "code",
   "execution_count": 5,
   "id": "7716475b",
   "metadata": {},
   "outputs": [
    {
     "data": {
      "text/plain": [
       "[(0, 1), (1, 2), (2, 4), (3, 6), (4, 8)]"
      ]
     },
     "execution_count": 5,
     "metadata": {},
     "output_type": "execute_result"
    }
   ],
   "source": [
    "test = {6,1,2,8,4}\n",
    "list(enumerate(test))  \n"
   ]
  },
  {
   "cell_type": "markdown",
   "id": "0a850ea6",
   "metadata": {},
   "source": [
    "#기타 함수\n",
    "- filter(함수명, 컬렉션)"
   ]
  },
  {
   "cell_type": "code",
   "execution_count": 16,
   "id": "15a77a8b",
   "metadata": {},
   "outputs": [
    {
     "name": "stdout",
     "output_type": "stream",
     "text": [
      "전달받은 점수 : 66\n",
      "전달받은 점수 : 99\n",
      "전달받은 점수 : 55\n",
      "전달받은 점수 : 88\n",
      "전달받은 점수 : 44\n",
      "전달받은 점수 : 77\n",
      "[99, 88]\n"
     ]
    }
   ],
   "source": [
    "def flunk(data):\n",
    "    print('전달받은 점수 :', data)\n",
    "    return data >=  80  #수식(bool)\n",
    "\n",
    "score = {44,55,66,77,88,99}\n",
    "print(list(filter(flunk, score)))\n",
    "    "
   ]
  },
  {
   "cell_type": "code",
   "execution_count": 18,
   "id": "5322415b",
   "metadata": {},
   "outputs": [
    {
     "name": "stdout",
     "output_type": "stream",
     "text": [
      "[33.0, 49.5, 27.5, 44.0, 22.0, 38.5]\n"
     ]
    }
   ],
   "source": [
    "def half(s) : \n",
    "    return s/2  #리턴값이 수식(값)이다.\n",
    "\n",
    "score = {44,55,66,77,88,99}\n",
    "print(list(map(half, score)))"
   ]
  },
  {
   "cell_type": "code",
   "execution_count": 33,
   "id": "6e7edee4",
   "metadata": {},
   "outputs": [
    {
     "name": "stdout",
     "output_type": "stream",
     "text": [
      "주급 :  327080 원\n"
     ]
    }
   ],
   "source": [
    "#[문제] 1주일 급여 계산할 때\n",
    "#map()\n",
    "#최저시급 : 9620원\n",
    "hourly = 9620\n",
    "def salary(hour) :\n",
    "    return hourly*hour\n",
    "\n",
    "work = [5,7,4,10,8]\n",
    "a = sum(list(map(salary, work)))   #주급 : 327,000원\n",
    "print('주급 : ', a,'원')\n",
    "\n",
    "#총 급여를 map을 이용하시오"
   ]
  },
  {
   "cell_type": "markdown",
   "id": "860d07bb",
   "metadata": {},
   "source": [
    "##lambda(람다)\n",
    "\n",
    "- 람다는 수학의 람다대수에서 유래됨\n",
    "- 익명함수( fiction(){} )로서 단일문으로 생성된 함수\n",
    "- 사용방법\n",
    "    lambda 매개변수 : 리턴할 수식"
   ]
  },
  {
   "cell_type": "code",
   "execution_count": null,
   "id": "1799fe72",
   "metadata": {},
   "outputs": [],
   "source": [
    "def salary(hour) :\n",
    "    return hourly*hour\n",
    "\n",
    "#람다함수로 변환하면\n",
    "lambda hour : 9620 * hour"
   ]
  },
  {
   "cell_type": "code",
   "execution_count": 37,
   "id": "5c0de295",
   "metadata": {},
   "outputs": [
    {
     "name": "stdout",
     "output_type": "stream",
     "text": [
      "30\n"
     ]
    },
    {
     "data": {
      "text/plain": [
       "30"
      ]
     },
     "execution_count": 37,
     "metadata": {},
     "output_type": "execute_result"
    }
   ],
   "source": [
    "def add(a, b) :\n",
    "    return a + b\n",
    "\n",
    "result = add(10, 20)\n",
    "print(result)\n",
    "\n",
    "result2 = lambda a, b : a + b\n",
    "result2(10,20)"
   ]
  },
  {
   "cell_type": "code",
   "execution_count": 40,
   "id": "0adfb523",
   "metadata": {},
   "outputs": [
    {
     "data": {
      "text/plain": [
       "[1, 4, 9, 16, 25]"
      ]
     },
     "execution_count": 40,
     "metadata": {},
     "output_type": "execute_result"
    }
   ],
   "source": [
    "c = [1,2,3,4,5]\n",
    "f = lambda x : x**2\n",
    "\n",
    "list(map(f,c))"
   ]
  },
  {
   "cell_type": "code",
   "execution_count": 41,
   "id": "97fe8282",
   "metadata": {},
   "outputs": [
    {
     "data": {
      "text/plain": [
       "[7, 9, 11, 13, 15]"
      ]
     },
     "execution_count": 41,
     "metadata": {},
     "output_type": "execute_result"
    }
   ],
   "source": [
    "c1 = [1,2,3,4,5]\n",
    "c2 = [6,7,8,9,10]\n",
    "\n",
    "f1 = lambda x,y : x+y\n",
    "\n",
    "list(map(f1,c1,c2))  #함수 호출X  하나의 값으로 인식"
   ]
  },
  {
   "cell_type": "code",
   "execution_count": 48,
   "id": "3114bbf1",
   "metadata": {},
   "outputs": [
    {
     "name": "stdout",
     "output_type": "stream",
     "text": [
      "33\n",
      "45\n",
      "45\n",
      "32\n",
      "57\n"
     ]
    }
   ],
   "source": [
    "# 값으로서의 함수\n",
    "# 대입가능\n",
    "\n",
    "def add(a, b):\n",
    "    print(a + b)\n",
    "    \n",
    "add(11, 22)  #함수를 호출하는 것\n",
    "\n",
    "plus = add(22, 23)  #반환된 값을 plus에 치환\n",
    "plus = add\n",
    "plus(22, 23)\n",
    "add(10, 22)\n",
    "plus(12,45)"
   ]
  },
  {
   "cell_type": "code",
   "execution_count": 51,
   "id": "8d14545a",
   "metadata": {},
   "outputs": [
    {
     "name": "stdout",
     "output_type": "stream",
     "text": [
      "30\n",
      "-10\n",
      "200\n"
     ]
    }
   ],
   "source": [
    "def add(a, b) :\n",
    "    print(a + b)\n",
    "    \n",
    "def minus(a, b) :\n",
    "    print(a - b)\n",
    "    \n",
    "def multiply(a, b) :\n",
    "    print(a * b)\n",
    "    \n",
    "\n",
    "#f : 함수명,   a,b : 값\n",
    "def calc(f, a, b):   #함수가 동작으로서 \n",
    "    f(a,b)\n",
    "    \n",
    "calc(add, 10, 20)\n",
    "calc(minus, 10, 20)\n",
    "calc(multiply, 10, 20)\n",
    "    \n",
    "    "
   ]
  },
  {
   "cell_type": "code",
   "execution_count": 152,
   "id": "b69c6be4",
   "metadata": {},
   "outputs": [
    {
     "name": "stdout",
     "output_type": "stream",
     "text": [
      "1 (2, 3)\n"
     ]
    }
   ],
   "source": [
    "#데이터를 튜플로 받을 때\n",
    "#최소 1개이상 전달해야만 temp가 동작\n",
    "#함수의 매개변수에 *을 붙이려면 맨 뒤에 붙여야 한다.\n",
    "def temp(k, *a) :\n",
    "    print(k, a)\n",
    "\n",
    "temp(1, 2, 3)\n",
    "# temp(1)\n",
    "# temp()  #->오류 #k는 무조건 값이 있어야 한다\n",
    "\n"
   ]
  },
  {
   "cell_type": "code",
   "execution_count": 157,
   "id": "2a5cd07c",
   "metadata": {},
   "outputs": [
    {
     "name": "stdout",
     "output_type": "stream",
     "text": [
      "() {'name': '홍길동', 'age': 20, 'phone': '010'}\n",
      "('저팔계',) {'age': 20, 'phone': '010'}\n"
     ]
    }
   ],
   "source": [
    "#데이터를 디셔너리로 받을 때\n",
    "def temp2(*name, **kwargs) :\n",
    "    print(name, kwargs)\n",
    "\n",
    "temp2(name='홍길동', age=20, phone='010')\n",
    "temp2('저팔계', age=20, phone='010')\n"
   ]
  },
  {
   "cell_type": "code",
   "execution_count": 83,
   "id": "0ccc7fef",
   "metadata": {},
   "outputs": [
    {
     "name": "stdout",
     "output_type": "stream",
     "text": [
      "Help on built-in function sum in module builtins:\n",
      "\n",
      "sum(iterable, /, start=0)\n",
      "    Return the sum of a 'start' value (default: 0) plus an iterable of numbers\n",
      "    \n",
      "    When the iterable is empty, return the start value.\n",
      "    This function is intended specifically for use with numeric values and may\n",
      "    reject non-numeric types.\n",
      "\n"
     ]
    }
   ],
   "source": [
    "help(sum)"
   ]
  },
  {
   "cell_type": "code",
   "execution_count": 81,
   "id": "42e1c16d",
   "metadata": {},
   "outputs": [
    {
     "name": "stdout",
     "output_type": "stream",
     "text": [
      "(1, 2, 3, 4)\n",
      "haha\n",
      "True\n"
     ]
    }
   ],
   "source": [
    "#호출을 이렇게 할 경우 이것이 동작되는 함수를 정의하면?\n",
    "def sample(*args, plus='sum', check=False) :\n",
    "    print(args)\n",
    "    print(plus)\n",
    "    print(check)\n",
    "\n",
    "sample(1, 2, 3, 4, plus='haha', check=True)  "
   ]
  },
  {
   "cell_type": "code",
   "execution_count": 82,
   "id": "009c502d",
   "metadata": {},
   "outputs": [
    {
     "name": "stdout",
     "output_type": "stream",
     "text": [
      "(1, 2, 3, 4)\n",
      "{'plus': 'haha', 'check': True}\n"
     ]
    }
   ],
   "source": [
    "def sample(*args, **kwargs) :\n",
    "    print(args)\n",
    "    print(kwargs)\n",
    "    \n",
    "\n",
    "sample(1, 2, 3, 4, plus='haha', check=True) "
   ]
  },
  {
   "cell_type": "code",
   "execution_count": 75,
   "id": "81de31e4",
   "metadata": {},
   "outputs": [
    {
     "name": "stdout",
     "output_type": "stream",
     "text": [
      "Help on function train_test_split in module sklearn.model_selection._split:\n",
      "\n",
      "train_test_split(*arrays, test_size=None, train_size=None, random_state=None, shuffle=True, stratify=None)\n",
      "    Split arrays or matrices into random train and test subsets.\n",
      "    \n",
      "    Quick utility that wraps input validation and\n",
      "    ``next(ShuffleSplit().split(X, y))`` and application to input data\n",
      "    into a single call for splitting (and optionally subsampling) data in a\n",
      "    oneliner.\n",
      "    \n",
      "    Read more in the :ref:`User Guide <cross_validation>`.\n",
      "    \n",
      "    Parameters\n",
      "    ----------\n",
      "    *arrays : sequence of indexables with same length / shape[0]\n",
      "        Allowed inputs are lists, numpy arrays, scipy-sparse\n",
      "        matrices or pandas dataframes.\n",
      "    \n",
      "    test_size : float or int, default=None\n",
      "        If float, should be between 0.0 and 1.0 and represent the proportion\n",
      "        of the dataset to include in the test split. If int, represents the\n",
      "        absolute number of test samples. If None, the value is set to the\n",
      "        complement of the train size. If ``train_size`` is also None, it will\n",
      "        be set to 0.25.\n",
      "    \n",
      "    train_size : float or int, default=None\n",
      "        If float, should be between 0.0 and 1.0 and represent the\n",
      "        proportion of the dataset to include in the train split. If\n",
      "        int, represents the absolute number of train samples. If None,\n",
      "        the value is automatically set to the complement of the test size.\n",
      "    \n",
      "    random_state : int, RandomState instance or None, default=None\n",
      "        Controls the shuffling applied to the data before applying the split.\n",
      "        Pass an int for reproducible output across multiple function calls.\n",
      "        See :term:`Glossary <random_state>`.\n",
      "    \n",
      "    shuffle : bool, default=True\n",
      "        Whether or not to shuffle the data before splitting. If shuffle=False\n",
      "        then stratify must be None.\n",
      "    \n",
      "    stratify : array-like, default=None\n",
      "        If not None, data is split in a stratified fashion, using this as\n",
      "        the class labels.\n",
      "        Read more in the :ref:`User Guide <stratification>`.\n",
      "    \n",
      "    Returns\n",
      "    -------\n",
      "    splitting : list, length=2 * len(arrays)\n",
      "        List containing train-test split of inputs.\n",
      "    \n",
      "        .. versionadded:: 0.16\n",
      "            If the input is sparse, the output will be a\n",
      "            ``scipy.sparse.csr_matrix``. Else, output type is the same as the\n",
      "            input type.\n",
      "    \n",
      "    Examples\n",
      "    --------\n",
      "    >>> import numpy as np\n",
      "    >>> from sklearn.model_selection import train_test_split\n",
      "    >>> X, y = np.arange(10).reshape((5, 2)), range(5)\n",
      "    >>> X\n",
      "    array([[0, 1],\n",
      "           [2, 3],\n",
      "           [4, 5],\n",
      "           [6, 7],\n",
      "           [8, 9]])\n",
      "    >>> list(y)\n",
      "    [0, 1, 2, 3, 4]\n",
      "    \n",
      "    >>> X_train, X_test, y_train, y_test = train_test_split(\n",
      "    ...     X, y, test_size=0.33, random_state=42)\n",
      "    ...\n",
      "    >>> X_train\n",
      "    array([[4, 5],\n",
      "           [0, 1],\n",
      "           [6, 7]])\n",
      "    >>> y_train\n",
      "    [2, 0, 3]\n",
      "    >>> X_test\n",
      "    array([[2, 3],\n",
      "           [8, 9]])\n",
      "    >>> y_test\n",
      "    [1, 4]\n",
      "    \n",
      "    >>> train_test_split(y, shuffle=False)\n",
      "    [[0, 1, 2], [3, 4]]\n",
      "\n"
     ]
    }
   ],
   "source": [
    "from sklearn.model_selection import train_test_split\n",
    "\n",
    "#help(train_test_split)\n",
    "train_test_split([1,2,3,4], random_state=2, stratify=True)"
   ]
  },
  {
   "cell_type": "markdown",
   "id": "dc265c50",
   "metadata": {},
   "source": [
    "#deep copy(깊은복사)와 swallow copy(얕은 복사)\n"
   ]
  },
  {
   "cell_type": "code",
   "execution_count": 88,
   "id": "97f8d17d",
   "metadata": {},
   "outputs": [
    {
     "name": "stdout",
     "output_type": "stream",
     "text": [
      "[1, 2, 3, 4]\n",
      "[1, 100, 3, 4]\n"
     ]
    }
   ],
   "source": [
    "#얕은 복사 (원본이 복사되는 것이 아니라, 참조값이 복사)\n",
    "list1 = [1, 2, 3, 4]\n",
    "list2 = list1.copy()\n",
    "\n",
    "list2[1] = 100  #복사본을 바꿨는데\n",
    "\n",
    "print(list1)    #원본은 그대로\n",
    "print(list2)"
   ]
  },
  {
   "cell_type": "code",
   "execution_count": 92,
   "id": "e75a058c",
   "metadata": {},
   "outputs": [
    {
     "name": "stdout",
     "output_type": "stream",
     "text": [
      "[['a', 'b'], 1, 2]\n",
      "[['a', 'c'], 1, 2]\n"
     ]
    }
   ],
   "source": [
    "import copy\n",
    "\n",
    "list0 = ['a', 'b']\n",
    "list1 = [list0, 1, 2]\n",
    "list2 = copy.deepcopy(list1)\n",
    "\n",
    "list2[0][1] = 'c'\n",
    "print(list1)\n",
    "print(list2)"
   ]
  },
  {
   "cell_type": "code",
   "execution_count": 94,
   "id": "c0d7de98",
   "metadata": {},
   "outputs": [
    {
     "name": "stdout",
     "output_type": "stream",
     "text": [
      "원본 :  [['a', 'x'], 1, 2]\n",
      "복사본 :  [['a', 'x'], 1, 2]\n"
     ]
    }
   ],
   "source": [
    "#얕은복사\n",
    "list1 = ['a', 'b']\n",
    "list2 = [list1, 1, 2]  #[['a','b'], 1, 2]\n",
    "\n",
    "temp = list2\n",
    "temp[0][1] = 'x'  #복사본을 바꿨는데\n",
    "\n",
    "print('원본 : ', list2) #원본도 바뀌어 있다.\n",
    "print('복사본 : ', temp) #원본도 바뀌어 있다.\n",
    "\n"
   ]
  },
  {
   "cell_type": "code",
   "execution_count": 97,
   "id": "72a70530",
   "metadata": {},
   "outputs": [
    {
     "name": "stdout",
     "output_type": "stream",
     "text": [
      "원본 :  [['a', 'x'], 1, 2]\n",
      "복사본 :  [['a', 'x'], 1, 100]\n"
     ]
    }
   ],
   "source": [
    "#copy()를 사용했으나 딥카피가 아님!!\n",
    "list1 = ['a', 'b']\n",
    "list2 = [list1, 1, 2]  #[['a','b'], 1, 2]\n",
    "\n",
    "temp = list2.copy() #딥카피처럼 보이나 #딥카피가 아니네??? 왜???? \"2차원이라서 딥카피가 안된다\"\n",
    "temp[0][1] = 'x'    #복사본을 바꿨는데 원본이 안바뀜\n",
    "temp[2] = 100       # 복사본을 바꿨는데 원본이 바뀜\n",
    "\n",
    "print('원본 : ', list2) #원본도 바뀌어 있다.\n",
    "print('복사본 : ', temp) #원본도 바뀌어 있다.\n"
   ]
  },
  {
   "cell_type": "code",
   "execution_count": 98,
   "id": "14d0ecf6",
   "metadata": {},
   "outputs": [
    {
     "name": "stdout",
     "output_type": "stream",
     "text": [
      "원본 :  [['a', 'b'], 1, 2]\n",
      "복사본 :  [['a', 'x'], 1, 100]\n"
     ]
    }
   ],
   "source": [
    "#2차원일 때 진정한 딥카피가 된다.\n",
    "import copy\n",
    "\n",
    "list1 = ['a', 'b']\n",
    "list2 = [list1, 1, 2]  #[['a','b'], 1, 2]\n",
    "\n",
    "temp = copy.deepcopy(list2)  #딥카피가 된다\n",
    "temp[0][1] = 'x'  #복사본을 바꿨는데\n",
    "temp[2] = 100\n",
    "\n",
    "print('원본 : ', list2) #원본도 바뀌어 있다.\n",
    "print('복사본 : ', temp) #원본도 바뀌어 있다.\n"
   ]
  },
  {
   "cell_type": "code",
   "execution_count": 150,
   "id": "44da307d",
   "metadata": {},
   "outputs": [
    {
     "name": "stdout",
     "output_type": "stream",
     "text": [
      "[1, 2, 3, 4, 5, 6, 7, 8, 9, 10]\n",
      "[1, 4, 9, 16, 25, 36, 49, 64, 81, 100]\n",
      "[2, 6, 12, 20, 30, 42, 56, 72, 90, 110]\n",
      "[6, 12, 30, 42, 72, 90]\n"
     ]
    }
   ],
   "source": [
    "#p.256[문제1]\n",
    "a = list(range(1,11))\n",
    "\n",
    "f = lambda x : x**2   #람다를 이용하여 a 리스트의 각 요소를 제곱하시오\n",
    "b = list(map(f,a))\n",
    "\n",
    "print(a)\n",
    "print(b)\n",
    "\n",
    "c= [x + y for x,y in zip(a,b)]  #인덱스가 같은 애들을 꺼내서 합친다\n",
    "print(c)\n",
    "\n",
    "#a, b의 리스트를 합한 후 6의 배수만으로 리스트를 만드시오\n",
    "#d = list(filter(         f         , [배열                    ]))\n",
    "d = list(filter(lambda x : x%6 == 0, [x+y for x, y in zip(a,b)]))\n",
    "print(d)\n",
    "\n",
    "\n"
   ]
  },
  {
   "cell_type": "code",
   "execution_count": 149,
   "id": "53f4d556",
   "metadata": {},
   "outputs": [
    {
     "name": "stdout",
     "output_type": "stream",
     "text": [
      "세일 전 :  [2000, 3000, 4000, 5000, 6000]\n",
      "세일 후 :  [1600, 2400, 3200, 4000, 4800]\n",
      "세일 후 :  [1600, 2400, 3200, 4000, 4800]\n"
     ]
    }
   ],
   "source": [
    "#p.256[문제2]\n",
    "price = [2000, 3000, 4000, 5000, 6000]\n",
    "sale_price1 = list(map(lambda y : int(y), list(map(lambda x : x*0.8, price))))\n",
    "sale_price2 = [int(fee) for fee in list(map(lambda x : x*0.8, price))]\n",
    "\n",
    "print('세일 전 : ', price)\n",
    "print('세일 후 : ', sale_price1)\n",
    "print('세일 후 : ', sale_price2)\n"
   ]
  },
  {
   "cell_type": "code",
   "execution_count": null,
   "id": "2073fe89",
   "metadata": {},
   "outputs": [],
   "source": []
  },
  {
   "cell_type": "code",
   "execution_count": null,
   "id": "9b41e7b3",
   "metadata": {},
   "outputs": [],
   "source": []
  },
  {
   "cell_type": "code",
   "execution_count": null,
   "id": "d22f4a71",
   "metadata": {},
   "outputs": [],
   "source": []
  },
  {
   "cell_type": "code",
   "execution_count": null,
   "id": "cd17d5ed",
   "metadata": {},
   "outputs": [],
   "source": []
  },
  {
   "cell_type": "code",
   "execution_count": null,
   "id": "e56775b8",
   "metadata": {},
   "outputs": [],
   "source": []
  },
  {
   "cell_type": "code",
   "execution_count": null,
   "id": "02de0755",
   "metadata": {},
   "outputs": [],
   "source": []
  },
  {
   "cell_type": "code",
   "execution_count": null,
   "id": "b2cba7d6",
   "metadata": {},
   "outputs": [],
   "source": []
  },
  {
   "cell_type": "code",
   "execution_count": null,
   "id": "a49bb890",
   "metadata": {},
   "outputs": [],
   "source": []
  },
  {
   "cell_type": "code",
   "execution_count": null,
   "id": "e15e0ac1",
   "metadata": {},
   "outputs": [],
   "source": []
  },
  {
   "cell_type": "code",
   "execution_count": null,
   "id": "e0de58f0",
   "metadata": {},
   "outputs": [],
   "source": []
  },
  {
   "cell_type": "code",
   "execution_count": null,
   "id": "97fdba21",
   "metadata": {},
   "outputs": [],
   "source": []
  }
 ],
 "metadata": {
  "kernelspec": {
   "display_name": "Python 3 (ipykernel)",
   "language": "python",
   "name": "python3"
  },
  "language_info": {
   "codemirror_mode": {
    "name": "ipython",
    "version": 3
   },
   "file_extension": ".py",
   "mimetype": "text/x-python",
   "name": "python",
   "nbconvert_exporter": "python",
   "pygments_lexer": "ipython3",
   "version": "3.9.13"
  }
 },
 "nbformat": 4,
 "nbformat_minor": 5
}

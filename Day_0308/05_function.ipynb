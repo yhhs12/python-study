{
 "cells": [
  {
   "cell_type": "markdown",
   "id": "8e447a2f",
   "metadata": {},
   "source": [
    "#함수(function)\n",
    "-프로그램상에서 자주 사용되는 코드를 하나의 기능으로 묶어 사용\n",
    "-종류\n",
    "    *내장함수(built_in)\n",
    "    *메소드 : 특정 클래스 내에 포함된 함수\n",
    "    *사용자 정의 함수 : 개발자가 만든 함수\n",
    "-정의(define) / 호출(call)"
   ]
  },
  {
   "cell_type": "code",
   "execution_count": 11,
   "id": "6d9b08d2",
   "metadata": {},
   "outputs": [],
   "source": [
    "def calc(a,b) :    #a,b  --> 매개변수(argument)\n",
    "    print(a + b)\n",
    "    return result"
   ]
  },
  {
   "cell_type": "code",
   "execution_count": 17,
   "id": "0ac2ef42",
   "metadata": {},
   "outputs": [],
   "source": [
    "def calc2(a,b) :    #a,b  --> 매개변수(argument)\n",
    "    return a + b, a * b"
   ]
  },
  {
   "cell_type": "code",
   "execution_count": 18,
   "id": "f0b26ef8",
   "metadata": {},
   "outputs": [
    {
     "name": "stdout",
     "output_type": "stream",
     "text": [
      "34 253\n"
     ]
    }
   ],
   "source": [
    "r1, r2 = calc2(11,23)\n",
    "print(r1, r2)"
   ]
  },
  {
   "cell_type": "code",
   "execution_count": 19,
   "id": "1e598b87",
   "metadata": {},
   "outputs": [
    {
     "data": {
      "text/plain": [
       "(3, 2)"
      ]
     },
     "execution_count": 19,
     "metadata": {},
     "output_type": "execute_result"
    }
   ],
   "source": [
    "temp = calc2\n",
    "temp(1,2)"
   ]
  },
  {
   "cell_type": "code",
   "execution_count": null,
   "id": "2a8bb1de",
   "metadata": {},
   "outputs": [],
   "source": [
    "def myfun() :\n",
    "    pass"
   ]
  },
  {
   "cell_type": "code",
   "execution_count": 27,
   "id": "a72dc271",
   "metadata": {},
   "outputs": [
    {
     "name": "stdout",
     "output_type": "stream",
     "text": [
      "1\n",
      "10\n"
     ]
    }
   ],
   "source": [
    "#가변인수\n",
    "def func(*a) :  #몇 개가 와도 가능\n",
    "    total = 0\n",
    "    for temp in a :\n",
    "        total += temp;\n",
    "    return total\n",
    "\n",
    "print(func(1))\n",
    "print(func(1,2,3,4))\n",
    "#print(func[1,2,3,4]) : 오류(전달은 되지만 연산은 불가능)"
   ]
  },
  {
   "cell_type": "code",
   "execution_count": 30,
   "id": "b6afa8a1",
   "metadata": {},
   "outputs": [
    {
     "data": {
      "text/plain": [
       "45"
      ]
     },
     "execution_count": 30,
     "metadata": {},
     "output_type": "execute_result"
    }
   ],
   "source": [
    "#기본값이 지정된 함수\n",
    "def calcstep(start, stop, step=1) :\n",
    "    total = 0\n",
    "    for i in range (start, stop, step) :\n",
    "        total += i\n",
    "    return total\n",
    "\n",
    "calcstep(1,10,2)    "
   ]
  },
  {
   "cell_type": "code",
   "execution_count": 34,
   "id": "2e04385f",
   "metadata": {},
   "outputs": [
    {
     "data": {
      "text/plain": [
       "1180"
      ]
     },
     "execution_count": 34,
     "metadata": {},
     "output_type": "execute_result"
    }
   ],
   "source": [
    "#기본값이 지정된 함수\n",
    "def calcstep(start=1, stop=10, step=1) : #start는 무조건 값을 받아야 함(기본값이 없을때)\n",
    "    total = 0\n",
    "    for i in range (start, stop, step) :\n",
    "        total += i\n",
    "    return total\n",
    "\n",
    "calcstep(1,10,2)\n",
    "calcstep(1,10)\n",
    "calcstep(1)\n",
    "calcstep()\n",
    "\n",
    "calcstep(step=1, stop=50, start=10) #변수명 정확히 쓰면 순서 상관없다\n"
   ]
  },
  {
   "cell_type": "code",
   "execution_count": null,
   "id": "001f9043",
   "metadata": {},
   "outputs": [],
   "source": [
    "a[1] #리스트\n",
    "b['name'] #딕셔너리"
   ]
  },
  {
   "cell_type": "code",
   "execution_count": 1,
   "id": "5b2f8b33",
   "metadata": {},
   "outputs": [
    {
     "name": "stdout",
     "output_type": "stream",
     "text": [
      "{'step': 1, 'stop': 50, 'start': 10}\n",
      "<class 'dict'>\n"
     ]
    }
   ],
   "source": [
    "def calcstep(**args) : \n",
    "    print(args)\n",
    "    print(type(args))\n",
    "\n",
    "calcstep(step=1, stop=50, start=10)      #**\n",
    "#calcstep(1, 50, 10)   *"
   ]
  },
  {
   "cell_type": "code",
   "execution_count": 50,
   "id": "93c5bf90",
   "metadata": {},
   "outputs": [
    {
     "name": "stdout",
     "output_type": "stream",
     "text": [
      "주민번호를 입력하시오 => 111111-1553513\n",
      "1911년생 11월 11일 112세 남자입니다.\n"
     ]
    }
   ],
   "source": [
    "#False 리턴 : 잘못된 주민번호\n",
    "#True 리턴 : 올바른 주민번호 : 2000년 1월 1일 생 남자 22세\n",
    "#주민번호 가운데 '-'\n",
    "#주민번호 길이 14자리\n",
    "# -앞, 뒤에는 숫자만 있어야 한다.\n",
    "#성별 위치는 1,2,3,4외에는 불가\n",
    "#주민번호를 공식에 넣어서 마지막 digit과 같아야만 올바른 주민번호\n",
    "\n",
    "def jumin_validation(jumin) :\n",
    "    if len(jumin) != 14 or jumin[6] !='-' or \\\n",
    "        not (jumin.split('-')[0].isnumeric()) or \\\n",
    "        not (jumin.split('-')[1].isnumeric()) :\n",
    "        return False\n",
    "\n",
    "    gender = jumin[7]    \n",
    "    if not(gender == '1' or gender=='2' or gender=='3' or gender=='4') :\n",
    "        return False\n",
    "   \n",
    "    # 검증 알고리즘\n",
    "    # 일요일까지\n",
    "   \n",
    "    # 출력데이터 만들기\n",
    "    \n",
    "    year = jumin[:2]\n",
    "    year = \"19\"+year if int(gender)==1 or int(gender)==2 else \"20\"+year\n",
    "    month = jumin[2:4]\n",
    "    day = jumin[4:6]\n",
    "    genderType = \"여자\" if int(gender) % 2 == 0 else \"남자\"\n",
    "    age = 2023 - int(year)\n",
    "\n",
    "    temp = '%s년생 %s월 %s일 %d세 %s입니다.'%(year, month, day, age, genderType)\n",
    "    return temp\n",
    "\n",
    "# 001225-3022215\n",
    "jumin = input('주민번호를 입력하시오 => ')\n",
    "result = jumin_validation(jumin)\n",
    "\n",
    "if not(result) :\n",
    "    print(\"잘못된 주민번호입니다.\")\n",
    "else :\n",
    "    print(result)\n",
    "    "
   ]
  },
  {
   "cell_type": "markdown",
   "id": "21deb9db",
   "metadata": {},
   "source": [
    "#[문제]함수를 이용한 계산기\n",
    "이항사칙연산을 매개변수로 받아 연산의 결과를 출력하는 함수를 정의하시오\n",
    "- 함수 형식: calculator(exp))\n",
    "- exp : 사용자로부터 입력받은 문자열 형태의 연산식\n",
    "\n",
    "[실행예시]\n",
    "계산식을 입력하세요 : 10 + 20\n",
    "10+20=30.00\n",
    "\n",
    "계산식을 입력하세요 : 10a20\n",
    "연산자 오류"
   ]
  },
  {
   "cell_type": "code",
   "execution_count": 49,
   "id": "3e29b7db",
   "metadata": {},
   "outputs": [
    {
     "name": "stdout",
     "output_type": "stream",
     "text": [
      "계산식을 입력하시오 :10.2+3.5\n",
      "수식 오류\n"
     ]
    }
   ],
   "source": [
    "#양수만 처리(연산자 4개, 연산자를 기준으로 양쪽은 정수)\n",
    "def calculator(data):  # 10 + 20\n",
    "    oper = ['+','-','*','/']\n",
    "    flag = False # 입력받은 data안에 허용하는 연산자가 있으면 True, 없으면 False\n",
    "    myop = None\n",
    "    for op in oper: \n",
    "        if op in data:  #계산식에 연산자가 포함되어 있는지 확인!\n",
    "            flag = True\n",
    "            myop = op\n",
    "            break\n",
    "    if not flag : return False\n",
    "    value1 = data.split(myop)[0]   #연산자 앞 숫자  아무것도 없으면 오류내야한다\n",
    "    value2 = data.split(myop)[1]    #연산자 뒤 숫자\n",
    "    \n",
    "    if not (value1.isnumeric() and value2.isnumeric()):  #문자열인지 확인\n",
    "        return False   \n",
    "    \n",
    "    if len(value1) <= 0 or len(value2) <= 0:  # 연산자 앞이나 뒤 숫자가 있는지 확인\n",
    "        return False\n",
    "    \n",
    "    value1 = int(value1)    \n",
    "    value2 = int(value2)\n",
    "    \n",
    "    result = value1 + value2 if myop == '+' else \\\n",
    "             value1 - value2 if myop == '-' else \\\n",
    "             value1 * value2 if myop == '*' else value / value2 \n",
    "    \n",
    "    return '%s = %.2f' % (data, result)\n",
    "\n",
    "result = calculator(input('계산식을 입력하시오 :'))\n",
    "if result: print(result)\n",
    "else : print('수식 오류')"
   ]
  },
  {
   "cell_type": "code",
   "execution_count": null,
   "id": "ede688d7",
   "metadata": {},
   "outputs": [],
   "source": [
    "#양수만 처리(연산자 4개, 연산자를 기준으로 양쪽은 정수)\n",
    "def calculator(data):\n",
    "    oper = ['+','-','*','/']\n",
    "    value1 = 0   #연산자 앞 숫자\n",
    "    value2 = 0   #연산자 뒤 숫자\n",
    "    \n",
    "    \n",
    "    \n",
    "    if data != '+' or data != '-' or data != '*' or data != '/' :\n",
    "        print('잘못된 계산식입니다')\n",
    "    \n",
    "    if '+' in data:\n",
    "        total = data.split(\"+\")\n",
    "        print(total)\n",
    "        result = str(float(total[0])+float(total[1]))\n",
    "        print(total[0] + \"+\" + total[1] + \":\"+ result)\n",
    "    if '-' in data:\n",
    "        total = data.split(\"-\")\n",
    "        print(total)\n",
    "        result = str(float(total[0])-float(total[1]))\n",
    "        print(total[0] + \"-\" + total[1] + \":\"+ result)\n",
    "    if '*' in data:\n",
    "        total = data.split(\"*\")\n",
    "        print(total)\n",
    "        result = str(float(total[0])*float(total[1]))\n",
    "        print(total[0] + \"*\" + total[1] + \":\"+ result)\n",
    "    if '/' in data:\n",
    "        total = data.split(\"/\")\n",
    "        print(total)\n",
    "        if (float(total[1])) == 0 :\n",
    "            print('분모에 0이 들어갈 수 없습니다')\n",
    "        result = str(float(total[0])/float(total[1]))\n",
    "        print(total[0] + \"/\" + total[1] + \":\"+ result)\n",
    "    \n",
    "# data = input('계산식을 입력하세요')\n",
    "result = calculator(data)\n",
    "if(result) : \n",
    "    print('결과는', result, '입니다')\n",
    "else : \n",
    "    print('수식오류')"
   ]
  },
  {
   "cell_type": "code",
   "execution_count": null,
   "id": "1a523387",
   "metadata": {},
   "outputs": [],
   "source": [
    "# exp = input(\"계산식을 입력하세요\")  \n",
    "oper = ['+','-','*','/']\n",
    "def calculator(exp):    \n",
    "    if '+' in exp:\n",
    "        total = exp.split(\"+\")\n",
    "        print(total)\n",
    "        result = str(float(total[0])+float(total[1]))\n",
    "        print(total[0] + \"+\" + total[1] + \":\"+ result)\n",
    "    if '-' in exp:\n",
    "        total = exp.split(\"-\")\n",
    "        print(total)\n",
    "        result = str(float(total[0])-float(total[1]))\n",
    "        print(total[0] + \"-\" + total[1] + \":\"+ result)\n",
    "    if '*' in exp:\n",
    "        total = exp.split(\"*\")\n",
    "        print(total)\n",
    "        result = str(float(total[0])*float(total[1]))\n",
    "        print(total[0] + \"*\" + total[1] + \":\"+ result)\n",
    "    if '/' in exp:\n",
    "        total = exp.split(\"/\")\n",
    "        print(total)\n",
    "        result = str(float(total[0])/float(total[1]))\n",
    "        print(total[0] + \"/\" + total[1] + \":\"+ result)\n",
    "       \n",
    "        \n",
    "calculator(exp) \n",
    "    "
   ]
  },
  {
   "cell_type": "code",
   "execution_count": null,
   "id": "736c280f",
   "metadata": {},
   "outputs": [],
   "source": []
  }
 ],
 "metadata": {
  "kernelspec": {
   "display_name": "Python 3 (ipykernel)",
   "language": "python",
   "name": "python3"
  },
  "language_info": {
   "codemirror_mode": {
    "name": "ipython",
    "version": 3
   },
   "file_extension": ".py",
   "mimetype": "text/x-python",
   "name": "python",
   "nbconvert_exporter": "python",
   "pygments_lexer": "ipython3",
   "version": "3.9.13"
  }
 },
 "nbformat": 4,
 "nbformat_minor": 5
}

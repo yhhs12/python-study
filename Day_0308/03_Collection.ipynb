{
 "cells": [
  {
   "cell_type": "code",
   "execution_count": null,
   "id": "03ed9473",
   "metadata": {},
   "outputs": [],
   "source": [
    "#문자열"
   ]
  },
  {
   "cell_type": "code",
   "execution_count": 19,
   "id": "7c6ad8cb",
   "metadata": {},
   "outputs": [
    {
     "name": "stdout",
     "output_type": "stream",
     "text": [
      "길이 : 31\n",
      "I have a dream. A song to sing!\n",
      "I have a dream\n",
      "A song to sing!\n",
      "A song to sing\n",
      "A song to sing\n"
     ]
    }
   ],
   "source": [
    "data = \"I have a dream. A song to sing!\"\n",
    "print('길이 :', len(data))\n",
    "\n",
    "#슬라이싱\n",
    "temp = data[:]\n",
    "print(temp)\n",
    "temp = data[0:14]\n",
    "print(temp)\n",
    "temp = data[16:]\n",
    "print(temp)\n",
    "temp = data[16:-1]\n",
    "print(temp)\n",
    "temp = data[16:len(data)-1]\n",
    "print(temp)\n"
   ]
  },
  {
   "cell_type": "code",
   "execution_count": null,
   "id": "02962346",
   "metadata": {},
   "outputs": [],
   "source": [
    "data = \"I have a dream. A song to sing!\"\n",
    "print(data)\n",
    "print(id(data))  #주소 출력\n",
    "\n",
    "temp = data[:]\n",
    "print(id(data))\n",
    "\n",
    "temp = data\n",
    "print(temp)\n",
    "print(id(temp))\n",
    "\n",
    "temp = data[16:-1]\n",
    "print(temp)\n",
    "\n",
    "#위치\n",
    "print(data[0])\n",
    "\n",
    "print(id(data[0]))\n",
    "print(id(data[1]))"
   ]
  },
  {
   "cell_type": "code",
   "execution_count": null,
   "id": "165395c9",
   "metadata": {},
   "outputs": [],
   "source": [
    "#문자열 함수\n",
    "# 1) len() : 길이를 구함\n",
    "data = \"I have a dream!\"\n",
    "print(len(data))\n",
    "\n",
    "# 2) find() : 왼쪽에서부터 검색하여 찾은 데이터의 index를 변환\n",
    "finded = data.find(\"dream\")  \n",
    "print(finded)\n",
    "\n",
    "finded = data.find(\"=\")  #찾는 데이터가 없으면 -1 반환\n",
    "print(finded)\n",
    "\n",
    "#split() : 데이터를 토큰화 시킨다. 공백에 따라\n",
    "data = \"I have a dream!\"\n",
    "myList = data.split() #공백이 구분자 이다.\n",
    "myList = data.split(\".\")\n",
    "print(myList)\n",
    "\n",
    "data = \"초콜릿/12000, 삼페인/25000, 장미꽃/30000\"\n",
    "myList = data.split(\",\")\n",
    "print(myList)"
   ]
  },
  {
   "cell_type": "code",
   "execution_count": null,
   "id": "c96ce403",
   "metadata": {},
   "outputs": [],
   "source": [
    "#[문제] split을 이용하여 총 비용을 구하라\n",
    "data = \"초콜릿/12000, 삼페인/25000, 장미꽃/30000\"\n",
    "myList = data.split(\",\")\n",
    "print(myList)\n",
    "total = 0\n",
    "for item in myList :\n",
    "    total += (int(item.split(\"/\"[1]))\n",
    "    \n",
    "print(\"총 비용 : \", total)\n",
    "\n",
    "\n"
   ]
  },
  {
   "cell_type": "code",
   "execution_count": null,
   "id": "9215a08c",
   "metadata": {},
   "outputs": [],
   "source": [
    "value = 123\n",
    "print(\"###%d###\" % value)\n",
    "print(\"###%5d###\" % value)\n",
    "print(\"###%10d###\" % value)\n",
    "print(\"###%-10d###\" % value)\n",
    "print(\"###%1d###\" % value)\n",
    "\n"
   ]
  },
  {
   "cell_type": "code",
   "execution_count": null,
   "id": "3c141619",
   "metadata": {},
   "outputs": [],
   "source": [
    "bmi = 2.3242345353\n",
    "result = \"%f\" % bmi\n",
    "print(result, type(result)) #문자열로 변환해서 나온다\n"
   ]
  },
  {
   "cell_type": "code",
   "execution_count": null,
   "id": "e79d934a",
   "metadata": {},
   "outputs": [],
   "source": [
    "value = 1234567780\n",
    "print(format(value, \",d\"))\n",
    "print(format(value, \",f\"))\n",
    "print(format(value, \",\"))\n",
    "\n",
    "\n",
    "value = 1234.567780\n",
    "print(format(value, \",f\"))\n",
    "#print(format(value, \",d\")) # 오류\n",
    "print(format(value, \",\"))\n"
   ]
  },
  {
   "cell_type": "code",
   "execution_count": null,
   "id": "ecf7ff7c",
   "metadata": {},
   "outputs": [],
   "source": [
    "name = '동현'\n",
    "age = 29\n",
    "height = 175\n",
    "print('이름 : {}, 나이 : {}, 키 : {}'.format(name,age,height))"
   ]
  },
  {
   "cell_type": "code",
   "execution_count": null,
   "id": "482378ed",
   "metadata": {},
   "outputs": [],
   "source": [
    "myList = [1,2,3,4,5]\n",
    "print(\"요소의 개수: \", len(myList))\n",
    "\n",
    "for item in myList:\n",
    "    print(item, sep=\" \", end= \" \")\n",
    "print()\n",
    "    \n",
    "print(myList[2])\n",
    "print(myList[-1])\n",
    "print(id(myList))\n",
    "temp = myList   #얕은복사\n",
    "print(id(temp))\n",
    "\n",
    "#리스트의 슬라이싱\n",
    "print(myList[0:3:2])\n",
    "print(myList[:])\n",
    "print(myList[:-1])\n",
    "print(myList[:1])\n",
    "\n",
    "temp = myList[:] #깊은복사  ==> string이랑 다른점\n",
    "temp = myList #얕은복사\n",
    "print(id(temp))"
   ]
  },
  {
   "cell_type": "code",
   "execution_count": null,
   "id": "c8cc9046",
   "metadata": {},
   "outputs": [],
   "source": [
    "# 함수\n",
    "myList = [5,4,3,4,5,7,8]\n",
    "myList.sort() #원본을 정렬시킨다 #함수x 메소드o\n",
    "print(myList)\n"
   ]
  },
  {
   "cell_type": "code",
   "execution_count": null,
   "id": "a6e8fa14",
   "metadata": {},
   "outputs": [],
   "source": [
    "myList = [5,4,3,4,5,7,8]\n",
    "\n",
    "sorted(myList) #반환값이 있다 #함수"
   ]
  },
  {
   "cell_type": "code",
   "execution_count": null,
   "id": "4ddb64a4",
   "metadata": {},
   "outputs": [],
   "source": [
    "#[문제] 비어있는 리스트를 하나 생성, 데이터를 입력받아 리스트에 추가\n",
    "#       0이 입력되면 입력중지. 리스트의 크기(len)와 합계를 출력\n",
    "myList = []\n",
    "total = 0\n",
    "while True :\n",
    "    i = int(input('정수 입력(단, 0을 입력하면 중지됩니다)'))\n",
    "    if i == 0 : break\n",
    "    myList.append(i)\n",
    "    total += i\n",
    "print('크기 : ', len(myList),'합계 : ', total )\n",
    "    "
   ]
  },
  {
   "cell_type": "code",
   "execution_count": null,
   "id": "ff6e26bb",
   "metadata": {},
   "outputs": [],
   "source": [
    "myList = ['a' , 'b', 'c']\n",
    "','.join(myList)  #split과 반대"
   ]
  },
  {
   "cell_type": "markdown",
   "id": "6ca292f3",
   "metadata": {},
   "source": [
    "#List comprehension"
   ]
  },
  {
   "cell_type": "code",
   "execution_count": 1,
   "id": "099fcf0a",
   "metadata": {},
   "outputs": [
    {
     "name": "stdout",
     "output_type": "stream",
     "text": [
      "[2, 4, 6, 8, 10, 12, 14, 16, 18, 20, 22, 24, 26, 28, 30, 32, 34, 36, 38, 40, 42, 44, 46, 48, 50, 52, 54, 56, 58, 60, 62, 64, 66, 68, 70, 72, 74, 76, 78, 80, 82, 84, 86, 88, 90, 92, 94, 96, 98, 100]\n"
     ]
    }
   ],
   "source": [
    "#1부터 100 사이의 짝수만을 리스트로 만들고자 한다면?\n",
    "myList = []\n",
    "for item in range(2,101,2) :\n",
    "    myList.append(item)\n",
    "    \n",
    "print(myList)"
   ]
  },
  {
   "cell_type": "code",
   "execution_count": 2,
   "id": "e4621371",
   "metadata": {},
   "outputs": [
    {
     "name": "stdout",
     "output_type": "stream",
     "text": [
      "[2, 4, 6, 8, 10, 12, 14, 16, 18, 20, 22, 24, 26, 28, 30, 32, 34, 36, 38, 40, 42, 44, 46, 48, 50, 52, 54, 56, 58, 60, 62, 64, 66, 68, 70, 72, 74, 76, 78, 80, 82, 84, 86, 88, 90, 92, 94, 96, 98, 100]\n"
     ]
    }
   ],
   "source": [
    "myList = [item for item in range(2,101,2)] #위랑 비교해서 보쟈\n",
    "print(myList)"
   ]
  },
  {
   "cell_type": "code",
   "execution_count": null,
   "id": "c7048f2b",
   "metadata": {},
   "outputs": [],
   "source": [
    "# 3의 배수를 리스트로 만드시오(!~100)\n",
    "myList = [item for item in range(3,101,3)]\n",
    "print(myList)"
   ]
  },
  {
   "cell_type": "code",
   "execution_count": null,
   "id": "d4373bc0",
   "metadata": {},
   "outputs": [],
   "source": [
    "#이 중에서 짝수만 골라서 리스트로 만드시오\n",
    "myList = [7,4,5,32,1,57,43,2]\n",
    "temp = []\n",
    "for item in myList : \n",
    "    if item % 2 == 0:\n",
    "        temp.append(item)\n",
    "print(temp)\n",
    "temp = [item for item in myList if item % 2 == 0]\n",
    "print(temp)"
   ]
  },
  {
   "cell_type": "code",
   "execution_count": null,
   "id": "9442c297",
   "metadata": {},
   "outputs": [],
   "source": [
    "myList = [7,4,5,32,1,57,43,2]\n",
    "myList.insert(0,-1)\n",
    "print(myList)\n",
    "myList.pop()\n",
    "print(myList)\n"
   ]
  },
  {
   "cell_type": "code",
   "execution_count": null,
   "id": "4a90abef",
   "metadata": {},
   "outputs": [],
   "source": [
    "list1 = [1,2,3]\n",
    "list2 = [3,4,5]\n",
    "print(list1 + list2)\n",
    "print(list1 * 3)"
   ]
  },
  {
   "cell_type": "code",
   "execution_count": null,
   "id": "ee66854d",
   "metadata": {},
   "outputs": [],
   "source": [
    "list3 = [1,2,3,4,5] #mutable\n",
    "print(list3)\n",
    "print(list3[0])\n",
    "list3[0] = -1\n",
    "print(list3[0])\n",
    "\n",
    "mystr = \"adadaef\"  #immutable\n",
    "print(mystr)\n",
    "print(mystr[0])\n",
    "\n",
    "# print(mystr[0] = -1)  ->오류\n",
    "a = mystr.replace(mystr[0], 'z')\n",
    "print(a)\n",
    "print(mystr)\n",
    "print(id(mystr))"
   ]
  },
  {
   "cell_type": "markdown",
   "id": "60faf1b6",
   "metadata": {},
   "source": [
    "#Dictionary\n",
    "- key : value의 쌍으로 구성된 자료구조"
   ]
  },
  {
   "cell_type": "code",
   "execution_count": null,
   "id": "09c11f5b",
   "metadata": {},
   "outputs": [],
   "source": [
    "mydict = {'이름' : '홍길동', '나이' : 29, '주소': '서울시 강남구 역삼동'}\n",
    "print(mydict)"
   ]
  },
  {
   "cell_type": "code",
   "execution_count": null,
   "id": "d64631e3",
   "metadata": {},
   "outputs": [],
   "source": [
    "mydict['이름']\n",
    "mydict['나이'] = 33  #modify\n",
    "print(mydict)\n",
    "mydict['전화번호'] = '1111-2222'  #update\n",
    "\n",
    "\n"
   ]
  },
  {
   "cell_type": "code",
   "execution_count": null,
   "id": "dfc80201",
   "metadata": {},
   "outputs": [],
   "source": [
    "temp = {}\n",
    "temp[True] = \"yes\"\n",
    "print(temp)\n",
    "\n",
    "temp[1] = \"one\"\n",
    "print(temp)"
   ]
  },
  {
   "cell_type": "code",
   "execution_count": null,
   "id": "395011b5",
   "metadata": {},
   "outputs": [],
   "source": [
    "mydict = {'이름' : '홍길동', '나이' : 29, '주소': '서울시 강남구 역삼동'}\n",
    "print(mydict)\n",
    "min(mydict)\n",
    "max(mydict)\n",
    "\n",
    "mydict.get('전화번호','전화번호없음')\n",
    "l = mydict.keys()\n",
    "v = mydict.values()\n",
    "i = mydict.items()\n",
    "\n",
    "print(min(mydict))\n",
    "print(max(mydict))\n",
    "print(n)\n",
    "print(list(l))\n",
    "print(list(v))\n",
    "print(list(i))\n",
    "\n",
    "mytuple = list(mydict.items())\n",
    "print(mytuple)\n",
    "print(mytuple[0])"
   ]
  },
  {
   "cell_type": "code",
   "execution_count": 6,
   "id": "f2da31e1",
   "metadata": {},
   "outputs": [
    {
     "ename": "SyntaxError",
     "evalue": "invalid syntax (184135632.py, line 16)",
     "output_type": "error",
     "traceback": [
      "\u001b[1;36m  File \u001b[1;32m\"C:\\Users\\user\\AppData\\Local\\Temp\\ipykernel_1732\\184135632.py\"\u001b[1;36m, line \u001b[1;32m16\u001b[0m\n\u001b[1;33m    if(counter.get(word) == None) ;\u001b[0m\n\u001b[1;37m                                  ^\u001b[0m\n\u001b[1;31mSyntaxError\u001b[0m\u001b[1;31m:\u001b[0m invalid syntax\n"
     ]
    }
   ],
   "source": [
    "#[문제] 아래의 문자열을 이용하여 단어의 개수를 세는 프로그램을 작성하시오\n",
    "song = '''I don't know what this is\n",
    "'Cause you got me good\n",
    "Just like you knew you would\n",
    "I don't know what you do\n",
    "But you do it well\n",
    "I'm under your spell'''\n",
    "\n",
    "counter = dict()\n",
    "\n",
    "temp = song.split()     \n",
    "\n",
    "for word in temp :\n",
    "    word = word.lower()\n",
    "    \n",
    "    if(counter.get(word) == None) ;\n",
    "        counter[word] = 1\n",
    "    else : \n",
    "        counter[word] += 1\n",
    "\n",
    "print(counter)\n",
    "\n",
    "#solution\n",
    "#1)비어있는 딕셔너리를 생선 mydict = {}\n",
    "#2)문자열을 분해한다(split) = > list로 분해됨 \n",
    "#3)반복문을 통해서 list에서 하나씩 께내옴\n",
    "#4)get()을 이용해서 이 단어가 이미 존재한다면 +1, 존재하지 않으면 1\n",
    "\n",
    "\n"
   ]
  },
  {
   "cell_type": "code",
   "execution_count": 12,
   "id": "d597b206",
   "metadata": {},
   "outputs": [
    {
     "name": "stdout",
     "output_type": "stream",
     "text": [
      "{'four': 3}\n",
      "3\n",
      "3\n",
      "3\n"
     ]
    }
   ],
   "source": [
    "words = ['four', 'four', 'four']\n",
    "mydict = {}\n",
    "mydict['four'] = 1\n",
    "a = mydict.get('four')\n",
    "mydict['four'] = a + 1\n",
    "print(mydict)\n",
    "for word in words :\n",
    "    mydict.get(word,1)\n",
    "    print(mydict.get(word))"
   ]
  },
  {
   "cell_type": "code",
   "execution_count": 15,
   "id": "faf30f94",
   "metadata": {},
   "outputs": [
    {
     "name": "stdout",
     "output_type": "stream",
     "text": [
      "{'i': 4, 'know': 4, 'what': 4, 'this': 2, 'is': 2, 'you': 32, 'got': 2, 'me': 2, 'good': 2, 'just': 2, 'like': 2, 'knew': 2, 'would': 2, 'do': 4, 'but': 2, 'it': 2, 'well': 2, 'under': 2, 'your': 2, 'spell': 2}\n"
     ]
    }
   ],
   "source": [
    "counter = dict()\n",
    "\n",
    "temp = song.split()     \n",
    "\n",
    "for word in temp :\n",
    "    word = word.lower()\n",
    "    if not word.isalpha() : continue\n",
    "    \n",
    "    counter[word] = counter.get(word, 1)\n",
    "    counter[word] += counter.get(word)\n",
    "    \n",
    "print(counter)"
   ]
  },
  {
   "cell_type": "code",
   "execution_count": 17,
   "id": "9e919736",
   "metadata": {},
   "outputs": [
    {
     "data": {
      "text/plain": [
       "True"
      ]
     },
     "execution_count": 17,
     "metadata": {},
     "output_type": "execute_result"
    }
   ],
   "source": [
    "\"12345\".isalpha()\n",
    "\"12345\".isnumeric()"
   ]
  },
  {
   "cell_type": "markdown",
   "id": "b65e8cb1",
   "metadata": {},
   "source": [
    "###[문제] 주민번호 입력받아 검증하는 프로그램을 작성하시오###\n",
    "\n",
    "- \"911225 - 1234567\"\n",
    "- 길이는 14자\n",
    "- \"-\"를 중심으로 앞뒤에는 문자가 들어있으면 안됨\n",
    "- 1991년생, 12월 25일, 남자, 32살\n",
    "\n",
    "- \"021225-3123456\"\n",
    "\n"
   ]
  },
  {
   "cell_type": "code",
   "execution_count": null,
   "id": "c5c00734",
   "metadata": {},
   "outputs": [],
   "source": [
    "regiNum = input(\"주민등록번호\")\n",
    "checkNum = regiNum.split('-')\n",
    "firstNum = regiNum[0:6]\n",
    "secondNum = regiNum[7:14]\n",
    "year = firstNum[0:2]\n",
    "month = firstNum[2:4]\n",
    "day = firstNum[4:6]\n",
    "gender = int(secondNum[0])\n",
    "if gender%2 == 0:\n",
    "    gender = \"여성\"\n",
    "else : gender = \"남성\"\n",
    "\n",
    "if int(secondNum[0] == 3 or secondNum[0] == 4):\n",
    "    fullyear = \"20\"\n",
    "else : fullyear=\"19\"\n",
    "\n",
    "age = 2024 - int(fullyear+year)\n",
    "if len(regiNum)!=14 :\n",
    "    print(\"14자리다시\")\n",
    "elif checkNum[0].isnumeric() == False :\n",
    "    print(\"앞의자리숫자다시\")\n",
    "elif checkNum[1].isnumeric() == False :\n",
    "    print(\"뒤의자리숫자다시\")\n",
    "\n",
    "print(fullyear+year+\"년\" + month+\"월\"+day + '일 '+ gender + \"입니다 \" +str(age)+\"살입니다\")"
   ]
  },
  {
   "cell_type": "code",
   "execution_count": 18,
   "id": "1fc59ec3",
   "metadata": {},
   "outputs": [
    {
     "data": {
      "text/plain": [
       "'olleH'"
      ]
     },
     "execution_count": 18,
     "metadata": {},
     "output_type": "execute_result"
    }
   ],
   "source": [
    "temp = \"Hello\"\n",
    "temp[::-1]"
   ]
  },
  {
   "cell_type": "code",
   "execution_count": null,
   "id": "caed099b",
   "metadata": {},
   "outputs": [],
   "source": []
  },
  {
   "cell_type": "code",
   "execution_count": 9,
   "id": "40b4e1fb",
   "metadata": {},
   "outputs": [
    {
     "name": "stdout",
     "output_type": "stream",
     "text": [
      "배기\n"
     ]
    }
   ],
   "source": [
    "s = \"차종:코란도C, 제조사:쌍용, 배기량:1998\"\n",
    "a= s.find(\"\")\n",
    "print(s[a:a+2])"
   ]
  },
  {
   "cell_type": "code",
   "execution_count": 15,
   "id": "94bca673",
   "metadata": {},
   "outputs": [
    {
     "name": "stdout",
     "output_type": "stream",
     "text": [
      "총 합은 356점 이고 평균은 89.28점이다.\n"
     ]
    }
   ],
   "source": [
    "total = 356\n",
    "avg = 89.2785\n",
    "\n",
    "print(\"총 합은 %d점 이고 평균은 %.2f점이다.\" %(total, avg))"
   ]
  },
  {
   "cell_type": "code",
   "execution_count": null,
   "id": "54d37755",
   "metadata": {},
   "outputs": [],
   "source": []
  },
  {
   "cell_type": "code",
   "execution_count": null,
   "id": "60a1bc83",
   "metadata": {},
   "outputs": [],
   "source": []
  }
 ],
 "metadata": {
  "kernelspec": {
   "display_name": "Python 3 (ipykernel)",
   "language": "python",
   "name": "python3"
  },
  "language_info": {
   "codemirror_mode": {
    "name": "ipython",
    "version": 3
   },
   "file_extension": ".py",
   "mimetype": "text/x-python",
   "name": "python",
   "nbconvert_exporter": "python",
   "pygments_lexer": "ipython3",
   "version": "3.9.13"
  }
 },
 "nbformat": 4,
 "nbformat_minor": 5
}

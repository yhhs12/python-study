{
 "cells": [
  {
   "cell_type": "markdown",
   "id": "45ea9671",
   "metadata": {},
   "source": [
    "#Python의 오류처리"
   ]
  },
  {
   "cell_type": "code",
   "execution_count": null,
   "id": "0352d04e",
   "metadata": {},
   "outputs": [],
   "source": [
    "score = \"89점\"   #ValueError\n",
    "temp = int(score)"
   ]
  },
  {
   "cell_type": "code",
   "execution_count": null,
   "id": "fcee2859",
   "metadata": {},
   "outputs": [],
   "source": [
    "try :\n",
    "    score = \"89점\"   \n",
    "    temp = int(score)  #오류발생 코드 -> 밑으로 안가고 except로 넘어간다.\n",
    "    temp += 1\n",
    "    print(\"최종점수는 =>\", temp)\n",
    "except :\n",
    "    print(\"오류가 발생됨\")\n",
    "\n",
    "print(\"종료\")"
   ]
  },
  {
   "cell_type": "code",
   "execution_count": null,
   "id": "80908a68",
   "metadata": {},
   "outputs": [],
   "source": [
    "s = \"89점\"  #밖에 빼놓는 것이 좋다.\n",
    "try :\n",
    "    t = int(s)  #오류발생 코드 \n",
    "    t += 1\n",
    "    print(\"최종점수는 =>\", t)\n",
    "except :\n",
    "    print(\"오류가 발생됨\")\n",
    "\n",
    "print(\"잘못된 점수 =>\", s)\n",
    "print(\"종료\")"
   ]
  },
  {
   "cell_type": "code",
   "execution_count": null,
   "id": "75cdd600",
   "metadata": {},
   "outputs": [],
   "source": [
    "a =[1,2,3,4,5]\n",
    "print(a[5])   #IndexError\n"
   ]
  },
  {
   "cell_type": "code",
   "execution_count": null,
   "id": "265d9110",
   "metadata": {},
   "outputs": [],
   "source": [
    "a =[1,\"A\",3,0,5]\n",
    "\n",
    "for i in a:\n",
    "    print(5 / i)  #TypeError"
   ]
  },
  {
   "cell_type": "code",
   "execution_count": null,
   "id": "c702c1fd",
   "metadata": {},
   "outputs": [],
   "source": [
    "a =[1,\"3\",3,0,5]\n",
    "\n",
    "for i in a:\n",
    "    print(5 / i)  #TypeError"
   ]
  },
  {
   "cell_type": "code",
   "execution_count": null,
   "id": "cf722bd2",
   "metadata": {},
   "outputs": [],
   "source": [
    "a =[1,\"3\",3,0,5]\n",
    "\n",
    "for i in a:\n",
    "    print(5 / int(i))  #ZeroDivisionError"
   ]
  },
  {
   "cell_type": "code",
   "execution_count": null,
   "id": "2f1311e5",
   "metadata": {},
   "outputs": [],
   "source": [
    "f = open(\"song.dat\", \"rb\")  #FileNotFoundError"
   ]
  },
  {
   "cell_type": "markdown",
   "id": "2f7f7190",
   "metadata": {},
   "source": [
    "#다양한 종류의 에러 확인\n"
   ]
  },
  {
   "cell_type": "code",
   "execution_count": null,
   "id": "887520ff",
   "metadata": {},
   "outputs": [],
   "source": [
    "try :\n",
    "    a =[1,2,3,4,5]\n",
    "    print(a[5])   #IndexError\n",
    "except IndexError as e:\n",
    "    print(\"오류발생\")\n",
    "    print(e)  #에러 설명글"
   ]
  },
  {
   "cell_type": "code",
   "execution_count": null,
   "id": "935bf27f",
   "metadata": {},
   "outputs": [],
   "source": [
    "try :    \n",
    "    a =[1,\"A\",3,0,5]\n",
    "    for i in a:\n",
    "        print(5 / i)  #TypeError\n",
    "except TypeError as e:\n",
    "    print(\"오류발생\")\n",
    "    print(e)"
   ]
  },
  {
   "cell_type": "code",
   "execution_count": null,
   "id": "860f3bca",
   "metadata": {},
   "outputs": [],
   "source": [
    "try :\n",
    "    a =[1,\"3\",3,0,5]\n",
    "    for i in a:\n",
    "        print(5 / int(i))  #ZeroDivisionError\n",
    "except ZeroDivisionError as e:\n",
    "    print(\"오류발생\")\n",
    "    print(e)"
   ]
  },
  {
   "cell_type": "code",
   "execution_count": null,
   "id": "41f90437",
   "metadata": {},
   "outputs": [],
   "source": [
    "try :\n",
    "    f = open(\"song.dat\", \"rb\")  #FileNotFoundError\n",
    "except FileNotFoundError as e:\n",
    "    print(\"오류발생\")\n",
    "    print(e)"
   ]
  },
  {
   "cell_type": "code",
   "execution_count": null,
   "id": "54b4ae19",
   "metadata": {},
   "outputs": [],
   "source": [
    "while True:\n",
    "    value = input(\"점수를 입력하세요\")\n",
    "    try:\n",
    "        score = int(value)\n",
    "        print(\"입력한 점수: \", score)\n",
    "        break\n",
    "    except:\n",
    "        print(\"점수 형식이 잘못되었습니다\")\n",
    "print(\"작업이 완료 되었습니다.\")"
   ]
  },
  {
   "cell_type": "code",
   "execution_count": null,
   "id": "2dde71a7",
   "metadata": {},
   "outputs": [],
   "source": [
    "#[문제] 임의의 리스트를 선언하고 해당 리스트 안에 정수로 형변환이 가능한 데이터만 저장하여\n",
    "#       출력하고 합계를 구하는 프로그램을 작성하시오\n",
    "#       이때 리스트에 저장할 데이터는 키보드로 입력하고,\n",
    "#       0의 입력은 프로그램의 종료로 간주한다\n",
    "\n",
    "mylist = list()\n",
    "while True:\n",
    "    try:\n",
    "        data = int(input(\"정수를 입력하세요\"))\n",
    "        if data == 0:\n",
    "            break\n",
    "        mylist.append(data)\n",
    "    except ValueError as e :\n",
    "        print(\"잘못된 데이터가 입력됨 ==>\", e)\n",
    "\n",
    "print(\"총 합계는 :\", sum(mylist))\n",
    "print(\"리스트:  :\", mylist)\n",
    "\n",
    "\n",
    "\n",
    "\n"
   ]
  },
  {
   "cell_type": "code",
   "execution_count": null,
   "id": "c8676f35",
   "metadata": {},
   "outputs": [],
   "source": [
    "#[문제] 임의의 리스트를 선언하고 해당 리스트 안에 정수로 형변환이 가능한 데이터만 저장하여\n",
    "#       출력하고 합계와 평균를 구하는 프로그램을 작성하시오\n",
    "#       이때 리스트에 저장할 데이터는 키보드로 입력하고,\n",
    "#       0의 입력은 프로그램의 종료로 간주한다\n",
    "\n",
    "mylist = []\n",
    "\n",
    "while True:\n",
    "    try:\n",
    "        data = int(input(\"정수를 입력하세요\"))\n",
    "        if data == 0:\n",
    "            break\n",
    "        mylist.append(data)\n",
    "        \n",
    "    except :\n",
    "        print(\"잘못된 데이터가 입력됨\")\n",
    "\n",
    "try:\n",
    "    print(\"리스트:  :\", mylist)\n",
    "    print(\"평균은 :\", sum(mylist) / len(mylist))\n",
    "    print(\"총 합계는 :\", sum(mylist))                  \n",
    "    \n",
    "except:\n",
    "    print(\"저장된 데이터가 없습니다.\")\n",
    "\n",
    "\n"
   ]
  },
  {
   "cell_type": "code",
   "execution_count": null,
   "id": "cf88747a",
   "metadata": {},
   "outputs": [],
   "source": [
    "#[문제] lunch라는 이름의 빈 리스트를 생성하고 반복적으로 점심메뉴를 입력받는다.\n",
    "#       '#'이 입력을 종료조건을 사용\n",
    "#        종료전에 오늘의 점심으로 먹을 메뉴를 lunch에서 골라 출력\n",
    "import random\n",
    "\n",
    "def input_lunch():\n",
    "    lunch = []\n",
    "    while True:\n",
    "        food = input(\"원하는 메뉴를 입력하세요\")\n",
    "        if food == \"#\":            \n",
    "            break\n",
    "        elif food.isnumeric():\n",
    "            print(\"숫자ㄴㄴ\")\n",
    "            continue\n",
    "        lunch.append(food)\n",
    "\n",
    "try:\n",
    "    mychoice = random.choice(input_lunch())\n",
    "    print(\"점심메뉴는 : \", random.choice(lunch))\n",
    "except:\n",
    "    print(\"메뉴를 입력해주세요\")\n",
    "\n"
   ]
  },
  {
   "cell_type": "code",
   "execution_count": 2,
   "id": "e3000eb9",
   "metadata": {},
   "outputs": [
    {
     "name": "stdout",
     "output_type": "stream",
     "text": [
      "~10 = 55\n",
      "입력값이 잘못되었습니다\n"
     ]
    }
   ],
   "source": [
    "#p.296 연습\n",
    "def calcsum(n):\n",
    "    if (n < 0):\n",
    "        raise ValueError\n",
    "    total = 0\n",
    "    for i in range(n+1):\n",
    "        total += i\n",
    "    return total\n",
    "\n",
    "try : \n",
    "    print(\"~10 =\", calcsum(10))\n",
    "    print(\"~-5 =\", calcsum(-5))\n",
    "except ValueError:\n",
    "    print(\"입력값이 잘못되었습니다\")    "
   ]
  },
  {
   "cell_type": "code",
   "execution_count": 74,
   "id": "9a255448",
   "metadata": {},
   "outputs": [
    {
     "ename": "KeyboardInterrupt",
     "evalue": "Interrupted by user",
     "output_type": "error",
     "traceback": [
      "\u001b[1;31m---------------------------------------------------------------------------\u001b[0m",
      "\u001b[1;31mKeyboardInterrupt\u001b[0m                         Traceback (most recent call last)",
      "\u001b[1;32m~\\AppData\\Local\\Temp\\ipykernel_12320\\620920965.py\u001b[0m in \u001b[0;36m<module>\u001b[1;34m\u001b[0m\n\u001b[0;32m     20\u001b[0m \u001b[1;33m\u001b[0m\u001b[0m\n\u001b[0;32m     21\u001b[0m \u001b[1;32mtry\u001b[0m\u001b[1;33m:\u001b[0m\u001b[1;33m\u001b[0m\u001b[1;33m\u001b[0m\u001b[0m\n\u001b[1;32m---> 22\u001b[1;33m     \u001b[0mmychoice\u001b[0m \u001b[1;33m=\u001b[0m \u001b[0mrandom\u001b[0m\u001b[1;33m.\u001b[0m\u001b[0mchoice\u001b[0m\u001b[1;33m(\u001b[0m\u001b[0minput_lunch\u001b[0m\u001b[1;33m(\u001b[0m\u001b[1;33m)\u001b[0m\u001b[1;33m)\u001b[0m\u001b[1;33m\u001b[0m\u001b[1;33m\u001b[0m\u001b[0m\n\u001b[0m\u001b[0;32m     23\u001b[0m     \u001b[0mprint\u001b[0m\u001b[1;33m(\u001b[0m\u001b[1;34m\"점심메뉴는 : \"\u001b[0m\u001b[1;33m,\u001b[0m \u001b[0mmychoice\u001b[0m\u001b[1;33m)\u001b[0m\u001b[1;33m\u001b[0m\u001b[1;33m\u001b[0m\u001b[0m\n\u001b[0;32m     24\u001b[0m \u001b[1;32mexcept\u001b[0m\u001b[1;33m(\u001b[0m\u001b[0mIndexError\u001b[0m\u001b[1;33m,\u001b[0m \u001b[0mValueError\u001b[0m\u001b[1;33m)\u001b[0m\u001b[1;33m:\u001b[0m\u001b[1;33m\u001b[0m\u001b[1;33m\u001b[0m\u001b[0m\n",
      "\u001b[1;32m~\\AppData\\Local\\Temp\\ipykernel_12320\\620920965.py\u001b[0m in \u001b[0;36minput_lunch\u001b[1;34m()\u001b[0m\n\u001b[0;32m      8\u001b[0m     \u001b[0mlunch\u001b[0m \u001b[1;33m=\u001b[0m \u001b[1;33m[\u001b[0m\u001b[1;33m]\u001b[0m\u001b[1;33m\u001b[0m\u001b[1;33m\u001b[0m\u001b[0m\n\u001b[0;32m      9\u001b[0m     \u001b[1;32mwhile\u001b[0m \u001b[1;32mTrue\u001b[0m\u001b[1;33m:\u001b[0m\u001b[1;33m\u001b[0m\u001b[1;33m\u001b[0m\u001b[0m\n\u001b[1;32m---> 10\u001b[1;33m         \u001b[0mmymenu\u001b[0m \u001b[1;33m=\u001b[0m \u001b[0minput\u001b[0m\u001b[1;33m(\u001b[0m\u001b[1;34m\"원하는 메뉴를 입력하세요\"\u001b[0m\u001b[1;33m)\u001b[0m\u001b[1;33m\u001b[0m\u001b[1;33m\u001b[0m\u001b[0m\n\u001b[0m\u001b[0;32m     11\u001b[0m         \u001b[1;32mif\u001b[0m \u001b[0mmymenu\u001b[0m \u001b[1;33m==\u001b[0m \u001b[1;34m\"#\"\u001b[0m\u001b[1;33m:\u001b[0m\u001b[1;33m\u001b[0m\u001b[1;33m\u001b[0m\u001b[0m\n\u001b[0;32m     12\u001b[0m             \u001b[1;32mif\u001b[0m \u001b[0mlen\u001b[0m\u001b[1;33m(\u001b[0m\u001b[0mlunch\u001b[0m\u001b[1;33m)\u001b[0m \u001b[1;33m==\u001b[0m \u001b[1;36m0\u001b[0m\u001b[1;33m:\u001b[0m\u001b[1;33m\u001b[0m\u001b[1;33m\u001b[0m\u001b[0m\n",
      "\u001b[1;32m~\\anaconda3\\lib\\site-packages\\ipykernel\\kernelbase.py\u001b[0m in \u001b[0;36mraw_input\u001b[1;34m(self, prompt)\u001b[0m\n\u001b[0;32m   1175\u001b[0m                 \u001b[1;34m\"raw_input was called, but this frontend does not support input requests.\"\u001b[0m\u001b[1;33m\u001b[0m\u001b[1;33m\u001b[0m\u001b[0m\n\u001b[0;32m   1176\u001b[0m             )\n\u001b[1;32m-> 1177\u001b[1;33m         return self._input_request(\n\u001b[0m\u001b[0;32m   1178\u001b[0m             \u001b[0mstr\u001b[0m\u001b[1;33m(\u001b[0m\u001b[0mprompt\u001b[0m\u001b[1;33m)\u001b[0m\u001b[1;33m,\u001b[0m\u001b[1;33m\u001b[0m\u001b[1;33m\u001b[0m\u001b[0m\n\u001b[0;32m   1179\u001b[0m             \u001b[0mself\u001b[0m\u001b[1;33m.\u001b[0m\u001b[0m_parent_ident\u001b[0m\u001b[1;33m[\u001b[0m\u001b[1;34m\"shell\"\u001b[0m\u001b[1;33m]\u001b[0m\u001b[1;33m,\u001b[0m\u001b[1;33m\u001b[0m\u001b[1;33m\u001b[0m\u001b[0m\n",
      "\u001b[1;32m~\\anaconda3\\lib\\site-packages\\ipykernel\\kernelbase.py\u001b[0m in \u001b[0;36m_input_request\u001b[1;34m(self, prompt, ident, parent, password)\u001b[0m\n\u001b[0;32m   1217\u001b[0m             \u001b[1;32mexcept\u001b[0m \u001b[0mKeyboardInterrupt\u001b[0m\u001b[1;33m:\u001b[0m\u001b[1;33m\u001b[0m\u001b[1;33m\u001b[0m\u001b[0m\n\u001b[0;32m   1218\u001b[0m                 \u001b[1;31m# re-raise KeyboardInterrupt, to truncate traceback\u001b[0m\u001b[1;33m\u001b[0m\u001b[1;33m\u001b[0m\u001b[0m\n\u001b[1;32m-> 1219\u001b[1;33m                 \u001b[1;32mraise\u001b[0m \u001b[0mKeyboardInterrupt\u001b[0m\u001b[1;33m(\u001b[0m\u001b[1;34m\"Interrupted by user\"\u001b[0m\u001b[1;33m)\u001b[0m \u001b[1;32mfrom\u001b[0m \u001b[1;32mNone\u001b[0m\u001b[1;33m\u001b[0m\u001b[1;33m\u001b[0m\u001b[0m\n\u001b[0m\u001b[0;32m   1220\u001b[0m             \u001b[1;32mexcept\u001b[0m \u001b[0mException\u001b[0m\u001b[1;33m:\u001b[0m\u001b[1;33m\u001b[0m\u001b[1;33m\u001b[0m\u001b[0m\n\u001b[0;32m   1221\u001b[0m                 \u001b[0mself\u001b[0m\u001b[1;33m.\u001b[0m\u001b[0mlog\u001b[0m\u001b[1;33m.\u001b[0m\u001b[0mwarning\u001b[0m\u001b[1;33m(\u001b[0m\u001b[1;34m\"Invalid Message:\"\u001b[0m\u001b[1;33m,\u001b[0m \u001b[0mexc_info\u001b[0m\u001b[1;33m=\u001b[0m\u001b[1;32mTrue\u001b[0m\u001b[1;33m)\u001b[0m\u001b[1;33m\u001b[0m\u001b[1;33m\u001b[0m\u001b[0m\n",
      "\u001b[1;31mKeyboardInterrupt\u001b[0m: Interrupted by user"
     ]
    }
   ],
   "source": [
    "#[문제] lunch라는 이름의 빈 리스트를 생성하고 반복적으로 점심메뉴를 입력받는다.\n",
    "#       '#'이 입력을 종료조건을 사용\n",
    "#        종료전에 오늘의 점심으로 먹을 메뉴를 lunch에서 골라 출력\n",
    "#raise 명령문으로 수정\n",
    "import random\n",
    "\n",
    "def input_lunch():\n",
    "    lunch = []\n",
    "    while True:\n",
    "        mymenu = input(\"원하는 메뉴를 입력하세요\")       \n",
    "        if mymenu == \"#\":\n",
    "            if len(lunch) == 0: \n",
    "                raise IndexError\n",
    "                return lunch\n",
    "        #숫자로만 된 데이터가 입력되면 이것도 오류처리 => raise ValueError시킨다    \n",
    "        if mymenu.isnumeric() : raise ValueError\n",
    "        lunch.append(mymenu)\n",
    "\n",
    "#main부분\n",
    "\n",
    "try:\n",
    "    mychoice = random.choice(input_lunch())\n",
    "    print(\"점심메뉴는 : \", mychoice)\n",
    "except(IndexError, ValueError):\n",
    "    print(\"메뉴를 입력해주세요\")\n",
    "\n"
   ]
  },
  {
   "cell_type": "markdown",
   "id": "4a0190bc",
   "metadata": {},
   "source": [
    "v5 수정 : 화면에 선택해서 작업하는 메뉴화면 작성, 파일IO도 추가\n",
    "  1)점심 메뉴 추가  2) 메뉴 확인   3) 점심메뉴선택  4) 메뉴 삭제   0) 종료 => 1\n",
    "요구 사항 \n",
    "-동일한 메뉴는 추가되지 않도록 한다.\n",
    "-정렬해서 확인\n",
    "-선택 : 추가된 메뉴가 하나도 없을 때에는 선택하지 못하도록\n",
    "-삭제 : 삭제할 메뉴를 입력받는다. 있으면 삭제, 없으면 없다라는 메시지 출력\n",
    "-종료 : 현재까지 입력된 모든 메뉴를 파일(lunch.txt)로 저장 후 종료\n",
    "       :프로그램이 구동 되자마자 바로 파일을 읽어서 처리"
   ]
  },
  {
   "cell_type": "code",
   "execution_count": null,
   "id": "4adb9ef1",
   "metadata": {},
   "outputs": [
    {
     "name": "stdout",
     "output_type": "stream",
     "text": [
      "[]\n",
      "1)점심 메뉴 추가 2) 메뉴 확인 3) 점심메뉴선택 4) 메뉴 삭제 0) 종료1\n",
      "원하는 메뉴를 입력하세요d\n",
      "원하는 메뉴를 입력하세요d\n",
      "원하는 메뉴를 입력하세요d\n",
      "원하는 메뉴를 입력하세요d\n",
      "원하는 메뉴를 입력하세요d\n",
      "원하는 메뉴를 입력하세요0\n",
      "메뉴를 입력하세요\n"
     ]
    }
   ],
   "source": [
    "\n",
    "import random\n",
    "\n",
    "# 파일로부터 데이터를 읽음\n",
    "def read_file() :\n",
    "    lunch = []\n",
    "    try :\n",
    "        with open('./lunch.txt', 'rt', encoding=\"UTF-8\") as f:\n",
    "            while True :\n",
    "                mymenu = f.readline()\n",
    "                if mymenu == None or len(mymenu) == 0: break\n",
    "                lunch.append(mymenu[:-1])  #공백 제거\n",
    "            return lunch\n",
    "    except FileNotFoundError :\n",
    "        lunch = []\n",
    "        return lunch\n",
    "\n",
    "# 메뉴 입력 (메인에서 1번이 선택되었을 때)    \n",
    "def input_lunch(lunch) :\n",
    "    while True:\n",
    "        try :\n",
    "            mymenu = input('> 점심메뉴를 입력:')\n",
    "            if mymenu == '#' : \n",
    "                return lunch\n",
    "            if mymenu.isnumeric() : raise ValueError #숫자 입력하였는지\n",
    "            if mymenu not in lunch :   #lunch안에 입력된 것이 중복되어 있지 않으면 lunch에 추가\n",
    "                lunch.append(mymenu)\n",
    "        except :\n",
    "            print(\" ** 메뉴를 다시 입력해 주세요\")\n",
    "\n",
    "#2) 메뉴확인\n",
    "def output_lunch(lunch) : \n",
    "    if lunch == None or len(lunch) == 0 :   #lunch안에 없을 때\n",
    "        print(\"** 저장된 메뉴가 없습니다.\")\n",
    "        return\n",
    "    print(\"** 현재 점심 메뉴 : \", end=\"\")\n",
    "    for item in lunch :    #lunch안에서 하나씩 반복하여\n",
    "        print(item, sep=\", \", end=\" \")  #한줄씩 보여주기\n",
    "    print()\n",
    "    \n",
    "# 3) 메뉴 선택\n",
    "def choice_lunch(lunch) :\n",
    "    if lunch == None or len(lunch) == 0 :\n",
    "        print(\"** 저장된 메뉴가 없습니다.\")\n",
    "        return        \n",
    "    mychoice = random.choice(lunch)     #lunch안에서 랜덤으로 하나 선택한다   \n",
    "    return mychoice\n",
    "\n",
    "# 4)\n",
    "def delete_lunch(lunch) :\n",
    "    if lunch == None or len(lunch) == 0 :\n",
    "        print(\"** 저장된 메뉴가 없습니다.\")\n",
    "        return          \n",
    "    try :\n",
    "        print(\"** 메뉴목록 : \", end=\"\")\n",
    "        for item in lunch :\n",
    "            print(item, sep=\", \", end=\" \")\n",
    "        print()\n",
    "        mymenu = input('> 삭제시킬 메뉴를 입력:')\n",
    "        if mymenu == '#' : \n",
    "            return lunch\n",
    "        if mymenu in lunch :\n",
    "            lunch.remove(mymenu)\n",
    "            return lunch\n",
    "    except :\n",
    "        pass\n",
    "    \n",
    "#5) 메뉴 0 선택시 ==> 파일에 저장 \n",
    "def write_lunch(lunch) :\n",
    "    if lunch == None or len(lunch) == 0 :\n",
    "        return    \n",
    "\n",
    "    with open('./lunch.txt', 'wt', encoding=\"UTF-8\") as f:\n",
    "        for item in lunch :\n",
    "            f.write(item + \"\\n\")\n",
    "        print(\"** 파일 저장완료!\")\n",
    "\n",
    "# main부분\n",
    "lunch = read_file()\n",
    "while True :\n",
    "    try : \n",
    "        select = input(\"1) 메뉴추가  2) 메뉴확인  3) 메뉴선택  4) 메뉴삭제  0) 종료 =>\")\n",
    "        if(select < '0' or select > '4'): raise ValueError\n",
    "        if select == '1' :\n",
    "            input_lunch(lunch)\n",
    "        elif select == '2' :\n",
    "            output_lunch(lunch)\n",
    "        elif select == '3' :\n",
    "            mymenu = choice_lunch(lunch)\n",
    "            if mymenu != None : print(\"** 오늘 점심메뉴는: \", mymenu)\n",
    "        elif select == '4' :\n",
    "            lunch = delete_lunch(lunch)\n",
    "        elif select == '0' :\n",
    "            write_lunch(lunch)\n",
    "            print('** 프로그램을 종료합니다.')\n",
    "            break\n",
    "            \n",
    "    except ValueError :\n",
    "        print(\"> 메뉴를 다시 선택해 주세요\")\n",
    "Menu_choice.py\n",
    "Menu_choice.py 표시 중입니다."
   ]
  },
  {
   "cell_type": "code",
   "execution_count": 62,
   "id": "07ce8b5e",
   "metadata": {},
   "outputs": [],
   "source": [
    "del lunch"
   ]
  },
  {
   "cell_type": "code",
   "execution_count": null,
   "id": "85ac41e6",
   "metadata": {},
   "outputs": [],
   "source": []
  },
  {
   "cell_type": "code",
   "execution_count": null,
   "id": "54d5cf90",
   "metadata": {},
   "outputs": [],
   "source": []
  },
  {
   "cell_type": "code",
   "execution_count": null,
   "id": "46fbd7ea",
   "metadata": {},
   "outputs": [],
   "source": []
  },
  {
   "cell_type": "code",
   "execution_count": null,
   "id": "1e634f94",
   "metadata": {},
   "outputs": [],
   "source": []
  },
  {
   "cell_type": "code",
   "execution_count": null,
   "id": "a72664a2",
   "metadata": {},
   "outputs": [],
   "source": []
  },
  {
   "cell_type": "code",
   "execution_count": null,
   "id": "7f0ed9ab",
   "metadata": {},
   "outputs": [],
   "source": []
  },
  {
   "cell_type": "code",
   "execution_count": null,
   "id": "51d9fe49",
   "metadata": {},
   "outputs": [],
   "source": []
  },
  {
   "cell_type": "code",
   "execution_count": null,
   "id": "c7320104",
   "metadata": {},
   "outputs": [],
   "source": []
  },
  {
   "cell_type": "code",
   "execution_count": null,
   "id": "6e77ce49",
   "metadata": {},
   "outputs": [],
   "source": []
  },
  {
   "cell_type": "code",
   "execution_count": null,
   "id": "4f6ad778",
   "metadata": {},
   "outputs": [],
   "source": []
  }
 ],
 "metadata": {
  "kernelspec": {
   "display_name": "Python 3 (ipykernel)",
   "language": "python",
   "name": "python3"
  },
  "language_info": {
   "codemirror_mode": {
    "name": "ipython",
    "version": 3
   },
   "file_extension": ".py",
   "mimetype": "text/x-python",
   "name": "python",
   "nbconvert_exporter": "python",
   "pygments_lexer": "ipython3",
   "version": "3.9.13"
  }
 },
 "nbformat": 4,
 "nbformat_minor": 5
}

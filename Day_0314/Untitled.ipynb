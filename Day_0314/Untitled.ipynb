{
 "cells": [
  {
   "cell_type": "code",
   "execution_count": 8,
   "id": "0ce63f50",
   "metadata": {},
   "outputs": [
    {
     "name": "stdout",
     "output_type": "stream",
     "text": [
      "[2, 19, 33, 15, 23, 31]\n"
     ]
    }
   ],
   "source": [
    "# 중복허용하지 않은 로또 발생기 (not in 연산자 사용)\n",
    "import random\n",
    "\n",
    "lotto = []\n",
    "while True:\n",
    "    num = random.randint(1,46)\n",
    "    if num not in lotto:\n",
    "        lotto.append(num)\n",
    "    if len(lotto) == 6 : break\n",
    "        \n",
    "print(lotto)"
   ]
  },
  {
   "cell_type": "code",
   "execution_count": 2,
   "id": "392aac4e",
   "metadata": {},
   "outputs": [
    {
     "name": "stdout",
     "output_type": "stream",
     "text": [
      "버전 :  3.9.13 (main, Aug 25 2022, 23:51:50) [MSC v.1916 64 bit (AMD64)]\n",
      "플랫폼 :  win32\n",
      "sys.getwindowsversion(major=10, minor=0, build=19044, platform=2, service_pack='')\n",
      "바이트 순서:  little\n"
     ]
    }
   ],
   "source": [
    "import sys\n",
    "print(\"버전 : \" , sys.version)\n",
    "print(\"플랫폼 : \", sys.platform)\n",
    "if(sys.platform == 'win32') :\n",
    "    print(sys.getwindowsversion())\n",
    "print('바이트 순서: ', sys.byteorder)\n",
    "sys.exit(0)"
   ]
  },
  {
   "cell_type": "code",
   "execution_count": 7,
   "id": "c82bf924",
   "metadata": {},
   "outputs": [
    {
     "data": {
      "text/plain": [
       "9.433981132056603"
      ]
     },
     "execution_count": 7,
     "metadata": {},
     "output_type": "execute_result"
    }
   ],
   "source": [
    "#[p.287 - 3]\n",
    "import math\n",
    "\n",
    "a= 8\n",
    "b= 5\n",
    "math.sqrt(a**2+b**2)"
   ]
  },
  {
   "cell_type": "code",
   "execution_count": 13,
   "id": "59bdf9ea",
   "metadata": {},
   "outputs": [
    {
     "name": "stdout",
     "output_type": "stream",
     "text": [
      "10540\n"
     ]
    }
   ],
   "source": [
    "#[p.287 - 4]\n",
    "import time\n",
    "import datetime\n",
    "\n",
    "birthdate = (1994,5,5,0,0,0,0,0,0)\n",
    "a = int((time.time() - time.mktime(birthdate)) / (24 * 60 * 60))\n",
    "print(a)"
   ]
  },
  {
   "cell_type": "code",
   "execution_count": 16,
   "id": "6e98a6a8",
   "metadata": {},
   "outputs": [
    {
     "data": {
      "text/plain": [
       "[(1, 4), (2, 5), (3, 6)]"
      ]
     },
     "execution_count": 16,
     "metadata": {},
     "output_type": "execute_result"
    }
   ],
   "source": [
    "temp = 5              #scalar\n",
    "a = [1,2,3]           #vector\n",
    "b = [4,5,6]\n",
    "#c = [[1,2,3],[4,5,6]]   : 선형대수학 - matrix\n",
    "#d = [[1,4], [2,5], [3,6]]\n",
    "list(zip(a,b)) # 예전에 만든 적 있음"
   ]
  },
  {
   "cell_type": "code",
   "execution_count": 21,
   "id": "7d6bc522",
   "metadata": {},
   "outputs": [
    {
     "name": "stdout",
     "output_type": "stream",
     "text": [
      "[[1, 4], [2, 5], [3, 6]]\n"
     ]
    }
   ],
   "source": [
    "#문제 : 아래의 2차원 리스트를 역행렬의 형태로 된 2차원으로 변경하시오\n",
    "a = [[1,2,3], [4,5,6]]\n",
    "list(zip(*a))\n",
    "data = [[x,y] for x,y in zip(*a)]\n",
    "print(data)"
   ]
  },
  {
   "cell_type": "code",
   "execution_count": 1,
   "id": "aafefe2c",
   "metadata": {},
   "outputs": [],
   "source": [
    "#연산자 중 '@'\n",
    "a = [[1,4],[3,2],[4,1]]  #3행 2열 Matrix\n",
    "b = [[3,3], [3,3]]   #2행 2열\n",
    "\n",
    "# c = a @ b   #파이썬에만 있는 언어 사용법을 알아올 것!\n",
    "\n"
   ]
  },
  {
   "cell_type": "code",
   "execution_count": 7,
   "id": "7225f436",
   "metadata": {},
   "outputs": [
    {
     "data": {
      "text/plain": [
       "[1]"
      ]
     },
     "execution_count": 7,
     "metadata": {},
     "output_type": "execute_result"
    }
   ],
   "source": [
    "def solution(n):\n",
    "    return [x for x in range(n + 1) if x % 2]\n",
    "\n",
    "solution(2)"
   ]
  },
  {
   "cell_type": "code",
   "execution_count": null,
   "id": "8967df05",
   "metadata": {},
   "outputs": [],
   "source": []
  },
  {
   "cell_type": "code",
   "execution_count": null,
   "id": "e26a40dc",
   "metadata": {},
   "outputs": [],
   "source": []
  },
  {
   "cell_type": "code",
   "execution_count": null,
   "id": "83785551",
   "metadata": {},
   "outputs": [],
   "source": []
  }
 ],
 "metadata": {
  "kernelspec": {
   "display_name": "Python 3 (ipykernel)",
   "language": "python",
   "name": "python3"
  },
  "language_info": {
   "codemirror_mode": {
    "name": "ipython",
    "version": 3
   },
   "file_extension": ".py",
   "mimetype": "text/x-python",
   "name": "python",
   "nbconvert_exporter": "python",
   "pygments_lexer": "ipython3",
   "version": "3.9.13"
  }
 },
 "nbformat": 4,
 "nbformat_minor": 5
}
